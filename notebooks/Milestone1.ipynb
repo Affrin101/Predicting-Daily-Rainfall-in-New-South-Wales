{
 "cells": [
  {
   "cell_type": "code",
   "execution_count": 1,
   "id": "f4ffb3e7-ebba-48ce-a978-ff3f3db2954c",
   "metadata": {},
   "outputs": [],
   "source": [
    "import re\n",
    "import os\n",
    "import glob\n",
    "import zipfile\n",
    "import requests\n",
    "from urllib.request import urlretrieve\n",
    "import json\n",
    "import pandas as pd\n",
    "import matplotlib as mpl\n",
    "import matplotlib.pyplot as plt"
   ]
  },
  {
   "cell_type": "code",
   "execution_count": 14,
   "id": "47a951e7-8565-4554-b3fa-4156bbe962a7",
   "metadata": {},
   "outputs": [],
   "source": [
    "# Necessary metadata\n",
    "article_id = 14096681  # this is the unique identifier of the article on figshare\n",
    "\n",
    "url = f\"https://api.figshare.com/v2/articles/{article_id}\"\n",
    "headers = {\"Content-Type\": \"application/json\"}\n",
    "output_directory = \"figsharerainfall/\""
   ]
  },
  {
   "cell_type": "code",
   "execution_count": 15,
   "id": "d5a6195c-9da4-4ad4-8143-96b0f1775800",
   "metadata": {},
   "outputs": [
    {
     "data": {
      "text/plain": [
       "[{'id': 26579150,\n",
       "  'name': 'daily_rainfall_2014.png',\n",
       "  'size': 58863,\n",
       "  'is_link_only': False,\n",
       "  'download_url': 'https://ndownloader.figshare.com/files/26579150',\n",
       "  'supplied_md5': 'fd32a2ffde300a31f8d63b1825d47e5e',\n",
       "  'computed_md5': 'fd32a2ffde300a31f8d63b1825d47e5e'},\n",
       " {'id': 26579171,\n",
       "  'name': 'environment.yml',\n",
       "  'size': 192,\n",
       "  'is_link_only': False,\n",
       "  'download_url': 'https://ndownloader.figshare.com/files/26579171',\n",
       "  'supplied_md5': '060b2020017eed93a1ee7dd8c65b2f34',\n",
       "  'computed_md5': '060b2020017eed93a1ee7dd8c65b2f34'},\n",
       " {'id': 26586554,\n",
       "  'name': 'README.md',\n",
       "  'size': 5422,\n",
       "  'is_link_only': False,\n",
       "  'download_url': 'https://ndownloader.figshare.com/files/26586554',\n",
       "  'supplied_md5': '61858c6cc0e6a6d6663a7e4c75bbd88c',\n",
       "  'computed_md5': '61858c6cc0e6a6d6663a7e4c75bbd88c'},\n",
       " {'id': 26766812,\n",
       "  'name': 'data.zip',\n",
       "  'size': 814041183,\n",
       "  'is_link_only': False,\n",
       "  'download_url': 'https://ndownloader.figshare.com/files/26766812',\n",
       "  'supplied_md5': 'b517383f76e77bd03755a63a8ff83ee9',\n",
       "  'computed_md5': 'b517383f76e77bd03755a63a8ff83ee9'},\n",
       " {'id': 26766815,\n",
       "  'name': 'get_data.py',\n",
       "  'size': 4113,\n",
       "  'is_link_only': False,\n",
       "  'download_url': 'https://ndownloader.figshare.com/files/26766815',\n",
       "  'supplied_md5': '7829028495fd9dec9680ea013474afa6',\n",
       "  'computed_md5': '7829028495fd9dec9680ea013474afa6'}]"
      ]
     },
     "execution_count": 15,
     "metadata": {},
     "output_type": "execute_result"
    }
   ],
   "source": [
    "response = requests.request(\"GET\", url, headers=headers)\n",
    "data = json.loads(response.text)  # this contains all the articles data, feel free to check it out\n",
    "files = data[\"files\"]             # this is just the data about the files, which is what we want\n",
    "files"
   ]
  },
  {
   "cell_type": "code",
   "execution_count": 16,
   "id": "0c999701-ef77-46bc-9ba8-ec962aedc26e",
   "metadata": {},
   "outputs": [
    {
     "name": "stdout",
     "output_type": "stream",
     "text": [
      "CPU times: user 7.11 s, sys: 7.92 s, total: 15 s\n",
      "Wall time: 1min 17s\n"
     ]
    }
   ],
   "source": [
    "%%time\n",
    "files_to_dl = [\"data.zip\"]  # feel free to add other files here\n",
    "for file in files:\n",
    "    if file[\"name\"] in files_to_dl:\n",
    "        os.makedirs(output_directory, exist_ok=True)\n",
    "        urlretrieve(file[\"download_url\"], output_directory + file[\"name\"])"
   ]
  },
  {
   "cell_type": "code",
   "execution_count": 17,
   "id": "328b7cd1-f4c4-4e23-aead-34c570f56059",
   "metadata": {},
   "outputs": [
    {
     "name": "stdout",
     "output_type": "stream",
     "text": [
      "CPU times: user 21.7 s, sys: 5.09 s, total: 26.8 s\n",
      "Wall time: 31.9 s\n"
     ]
    }
   ],
   "source": [
    "%%time\n",
    "with zipfile.ZipFile(os.path.join(output_directory, \"data.zip\"), 'r') as f:\n",
    "    f.extractall(output_directory)"
   ]
  },
  {
   "cell_type": "code",
   "execution_count": 2,
   "id": "4b690a99-054c-45b1-a8e0-ac07098bb890",
   "metadata": {},
   "outputs": [],
   "source": [
    "os.chdir(\"figsharerainfall\")"
   ]
  },
  {
   "cell_type": "code",
   "execution_count": 19,
   "id": "6b52ddf4-b9fd-44c0-bec2-83b5659b2d76",
   "metadata": {},
   "outputs": [
    {
     "name": "stdout",
     "output_type": "stream",
     "text": [
      "CPU times: user 26min 34s, sys: 2min 52s, total: 29min 27s\n",
      "Wall time: 32min 52s\n"
     ]
    }
   ],
   "source": [
    "%%time\n",
    "## here we are using a normal python way for merging the data \n",
    "import pandas as pd\n",
    "\n",
    "# files = glob.glob('figsharerainfall/*.csv')\n",
    "extension = 'csv'\n",
    "all_filenames = glob.glob('*.{}'.format(extension))\n",
    "df = pd.concat((pd.read_csv(file, index_col=0)\n",
    "                # .assign(model=re.findall(r'(?<=\\/)[^_]+(?=_)', file))\n",
    "                .assign(model=re.findall(r'^[^_]+(?=_)', file)[0])\n",
    "                for file in all_filenames)\n",
    "              )\n",
    "\n",
    "# files = glob.glob('figsharerainfall/*.csv')\n",
    "# df = pd.concat((pd.read_csv(file, index_col=0)\n",
    "#                 .assign(model = file.strip('figsharerainfall\\\\').split('_')[0])\n",
    "#                 for file in files))\n",
    "df.to_csv(\"combined_data.csv\")"
   ]
  },
  {
   "cell_type": "markdown",
   "id": "d30dd7c6-3e44-481b-928f-08d482bd04d3",
   "metadata": {},
   "source": [
    "| Team Member | Operating System | RAM | Processor | Is SSD | Time taken |\n",
    "|:-----------:|:----------------:|:---:|:---------:|:------:|:----------:|\n",
    "| Affrin Sultana    |   Windows 10 Pro               | 16GB    |    AMD Ryzen 9 5000Series       |   Yes     |     6m34s       |\n",
    "| Helin Wang  | Windows 10 Education | 16GB | Intel(R) Core(TM) i5-8250U CPU @ 1.60GHz   1.80 GHz |  Yes     | 8m1s |\n",
    "| Manju Abhinandana Kumar    |    MacBook Air (M1, 2020)              |   8 GB  |  Apple M1         |   Yes     |      6min 22s      |\n",
    "| Yair Guterman    |    macOS Big Sur    |  8 GB   |    1.8 GHz Dual-Core Intel Core i5       |    Yes    |         32min 52s   |"
   ]
  },
  {
   "cell_type": "markdown",
   "id": "73018194-c697-4f7d-8bfc-4e79f2c011c5",
   "metadata": {},
   "source": [
    "# Simple EDA"
   ]
  },
  {
   "cell_type": "code",
   "execution_count": 20,
   "id": "4c09fe17-bb89-448c-8ea1-482e025bab8c",
   "metadata": {},
   "outputs": [
    {
     "data": {
      "text/html": [
       "<div>\n",
       "<style scoped>\n",
       "    .dataframe tbody tr th:only-of-type {\n",
       "        vertical-align: middle;\n",
       "    }\n",
       "\n",
       "    .dataframe tbody tr th {\n",
       "        vertical-align: top;\n",
       "    }\n",
       "\n",
       "    .dataframe thead th {\n",
       "        text-align: right;\n",
       "    }\n",
       "</style>\n",
       "<table border=\"1\" class=\"dataframe\">\n",
       "  <thead>\n",
       "    <tr style=\"text-align: right;\">\n",
       "      <th></th>\n",
       "      <th>lat_min</th>\n",
       "      <th>lat_max</th>\n",
       "      <th>lon_min</th>\n",
       "      <th>lon_max</th>\n",
       "      <th>rain (mm/day)</th>\n",
       "      <th>model</th>\n",
       "    </tr>\n",
       "    <tr>\n",
       "      <th>time</th>\n",
       "      <th></th>\n",
       "      <th></th>\n",
       "      <th></th>\n",
       "      <th></th>\n",
       "      <th></th>\n",
       "      <th></th>\n",
       "    </tr>\n",
       "  </thead>\n",
       "  <tbody>\n",
       "    <tr>\n",
       "      <th>2014-12-27 12:00:00</th>\n",
       "      <td>-30.157068</td>\n",
       "      <td>-29.21466</td>\n",
       "      <td>153.125</td>\n",
       "      <td>154.375</td>\n",
       "      <td>6.689683</td>\n",
       "      <td>SAM0-UNICON</td>\n",
       "    </tr>\n",
       "    <tr>\n",
       "      <th>2014-12-28 12:00:00</th>\n",
       "      <td>-30.157068</td>\n",
       "      <td>-29.21466</td>\n",
       "      <td>153.125</td>\n",
       "      <td>154.375</td>\n",
       "      <td>7.862555</td>\n",
       "      <td>SAM0-UNICON</td>\n",
       "    </tr>\n",
       "    <tr>\n",
       "      <th>2014-12-29 12:00:00</th>\n",
       "      <td>-30.157068</td>\n",
       "      <td>-29.21466</td>\n",
       "      <td>153.125</td>\n",
       "      <td>154.375</td>\n",
       "      <td>10.005026</td>\n",
       "      <td>SAM0-UNICON</td>\n",
       "    </tr>\n",
       "    <tr>\n",
       "      <th>2014-12-30 12:00:00</th>\n",
       "      <td>-30.157068</td>\n",
       "      <td>-29.21466</td>\n",
       "      <td>153.125</td>\n",
       "      <td>154.375</td>\n",
       "      <td>8.541592</td>\n",
       "      <td>SAM0-UNICON</td>\n",
       "    </tr>\n",
       "    <tr>\n",
       "      <th>2014-12-31 12:00:00</th>\n",
       "      <td>-30.157068</td>\n",
       "      <td>-29.21466</td>\n",
       "      <td>153.125</td>\n",
       "      <td>154.375</td>\n",
       "      <td>68.117489</td>\n",
       "      <td>SAM0-UNICON</td>\n",
       "    </tr>\n",
       "  </tbody>\n",
       "</table>\n",
       "</div>"
      ],
      "text/plain": [
       "                       lat_min   lat_max  lon_min  lon_max  rain (mm/day)  \\\n",
       "time                                                                        \n",
       "2014-12-27 12:00:00 -30.157068 -29.21466  153.125  154.375       6.689683   \n",
       "2014-12-28 12:00:00 -30.157068 -29.21466  153.125  154.375       7.862555   \n",
       "2014-12-29 12:00:00 -30.157068 -29.21466  153.125  154.375      10.005026   \n",
       "2014-12-30 12:00:00 -30.157068 -29.21466  153.125  154.375       8.541592   \n",
       "2014-12-31 12:00:00 -30.157068 -29.21466  153.125  154.375      68.117489   \n",
       "\n",
       "                           model  \n",
       "time                              \n",
       "2014-12-27 12:00:00  SAM0-UNICON  \n",
       "2014-12-28 12:00:00  SAM0-UNICON  \n",
       "2014-12-29 12:00:00  SAM0-UNICON  \n",
       "2014-12-30 12:00:00  SAM0-UNICON  \n",
       "2014-12-31 12:00:00  SAM0-UNICON  "
      ]
     },
     "execution_count": 20,
     "metadata": {},
     "output_type": "execute_result"
    }
   ],
   "source": [
    "df.tail()\n"
   ]
  },
  {
   "cell_type": "code",
   "execution_count": 21,
   "id": "ec8a265c-db71-4591-8f5a-a1da5fbee5fb",
   "metadata": {},
   "outputs": [
    {
     "data": {
      "text/html": [
       "<div>\n",
       "<style scoped>\n",
       "    .dataframe tbody tr th:only-of-type {\n",
       "        vertical-align: middle;\n",
       "    }\n",
       "\n",
       "    .dataframe tbody tr th {\n",
       "        vertical-align: top;\n",
       "    }\n",
       "\n",
       "    .dataframe thead th {\n",
       "        text-align: right;\n",
       "    }\n",
       "</style>\n",
       "<table border=\"1\" class=\"dataframe\">\n",
       "  <thead>\n",
       "    <tr style=\"text-align: right;\">\n",
       "      <th></th>\n",
       "      <th>lat_min</th>\n",
       "      <th>lat_max</th>\n",
       "      <th>lon_min</th>\n",
       "      <th>lon_max</th>\n",
       "      <th>rain (mm/day)</th>\n",
       "      <th>model</th>\n",
       "    </tr>\n",
       "    <tr>\n",
       "      <th>time</th>\n",
       "      <th></th>\n",
       "      <th></th>\n",
       "      <th></th>\n",
       "      <th></th>\n",
       "      <th></th>\n",
       "      <th></th>\n",
       "    </tr>\n",
       "  </thead>\n",
       "  <tbody>\n",
       "    <tr>\n",
       "      <th>1889-01-01 12:00:00</th>\n",
       "      <td>-35.439867</td>\n",
       "      <td>-33.574619</td>\n",
       "      <td>141.5625</td>\n",
       "      <td>143.4375</td>\n",
       "      <td>4.244226e-13</td>\n",
       "      <td>MPI-ESM-1-2-HAM</td>\n",
       "    </tr>\n",
       "    <tr>\n",
       "      <th>1889-01-02 12:00:00</th>\n",
       "      <td>-35.439867</td>\n",
       "      <td>-33.574619</td>\n",
       "      <td>141.5625</td>\n",
       "      <td>143.4375</td>\n",
       "      <td>4.217326e-13</td>\n",
       "      <td>MPI-ESM-1-2-HAM</td>\n",
       "    </tr>\n",
       "    <tr>\n",
       "      <th>1889-01-03 12:00:00</th>\n",
       "      <td>-35.439867</td>\n",
       "      <td>-33.574619</td>\n",
       "      <td>141.5625</td>\n",
       "      <td>143.4375</td>\n",
       "      <td>4.498125e-13</td>\n",
       "      <td>MPI-ESM-1-2-HAM</td>\n",
       "    </tr>\n",
       "    <tr>\n",
       "      <th>1889-01-04 12:00:00</th>\n",
       "      <td>-35.439867</td>\n",
       "      <td>-33.574619</td>\n",
       "      <td>141.5625</td>\n",
       "      <td>143.4375</td>\n",
       "      <td>4.251282e-13</td>\n",
       "      <td>MPI-ESM-1-2-HAM</td>\n",
       "    </tr>\n",
       "    <tr>\n",
       "      <th>1889-01-05 12:00:00</th>\n",
       "      <td>-35.439867</td>\n",
       "      <td>-33.574619</td>\n",
       "      <td>141.5625</td>\n",
       "      <td>143.4375</td>\n",
       "      <td>4.270161e-13</td>\n",
       "      <td>MPI-ESM-1-2-HAM</td>\n",
       "    </tr>\n",
       "  </tbody>\n",
       "</table>\n",
       "</div>"
      ],
      "text/plain": [
       "                       lat_min    lat_max   lon_min   lon_max  rain (mm/day)  \\\n",
       "time                                                                           \n",
       "1889-01-01 12:00:00 -35.439867 -33.574619  141.5625  143.4375   4.244226e-13   \n",
       "1889-01-02 12:00:00 -35.439867 -33.574619  141.5625  143.4375   4.217326e-13   \n",
       "1889-01-03 12:00:00 -35.439867 -33.574619  141.5625  143.4375   4.498125e-13   \n",
       "1889-01-04 12:00:00 -35.439867 -33.574619  141.5625  143.4375   4.251282e-13   \n",
       "1889-01-05 12:00:00 -35.439867 -33.574619  141.5625  143.4375   4.270161e-13   \n",
       "\n",
       "                               model  \n",
       "time                                  \n",
       "1889-01-01 12:00:00  MPI-ESM-1-2-HAM  \n",
       "1889-01-02 12:00:00  MPI-ESM-1-2-HAM  \n",
       "1889-01-03 12:00:00  MPI-ESM-1-2-HAM  \n",
       "1889-01-04 12:00:00  MPI-ESM-1-2-HAM  \n",
       "1889-01-05 12:00:00  MPI-ESM-1-2-HAM  "
      ]
     },
     "execution_count": 21,
     "metadata": {},
     "output_type": "execute_result"
    }
   ],
   "source": [
    "df.head()"
   ]
  },
  {
   "cell_type": "code",
   "execution_count": 22,
   "id": "322f88e0-d814-42ef-b5ab-53ea4b781082",
   "metadata": {},
   "outputs": [
    {
     "name": "stdout",
     "output_type": "stream",
     "text": [
      "<class 'pandas.core.frame.DataFrame'>\n",
      "Index: 187541589 entries, 1889-01-01 12:00:00 to 2014-12-31 12:00:00\n",
      "Data columns (total 6 columns):\n",
      " #   Column         Dtype  \n",
      "---  ------         -----  \n",
      " 0   lat_min        float64\n",
      " 1   lat_max        float64\n",
      " 2   lon_min        float64\n",
      " 3   lon_max        float64\n",
      " 4   rain (mm/day)  float64\n",
      " 5   model          object \n",
      "dtypes: float64(5), object(1)\n",
      "memory usage: 9.8+ GB\n",
      "Memory usage with float64: 10502.33 MB\n"
     ]
    }
   ],
   "source": [
    "# Checking the dtype of each column\n",
    "df.info()\n",
    "print(f\"Memory usage with float64: {df.memory_usage().sum() / 1e6:.2f} MB\")"
   ]
  },
  {
   "cell_type": "markdown",
   "id": "30700a71-aaa8-4b50-bb93-aa156494045b",
   "metadata": {},
   "source": [
    "# Changing the dtype"
   ]
  },
  {
   "cell_type": "code",
   "execution_count": 23,
   "id": "288722be-11de-47eb-b6de-c2d8ec41d96e",
   "metadata": {},
   "outputs": [],
   "source": [
    "# Changing the dtype of numerical columns from float64 to float32 \n",
    "column_name = list(df.select_dtypes(include=['float64']))\n",
    "for name in column_name:\n",
    "    df[name] = df[name].astype('float32')"
   ]
  },
  {
   "cell_type": "code",
   "execution_count": 24,
   "id": "195179e3-09c5-44f2-b1e7-1e6e4f97d8df",
   "metadata": {},
   "outputs": [
    {
     "name": "stdout",
     "output_type": "stream",
     "text": [
      "<class 'pandas.core.frame.DataFrame'>\n",
      "Index: 187541589 entries, 1889-01-01 12:00:00 to 2014-12-31 12:00:00\n",
      "Data columns (total 6 columns):\n",
      " #   Column         Dtype  \n",
      "---  ------         -----  \n",
      " 0   lat_min        float32\n",
      " 1   lat_max        float32\n",
      " 2   lon_min        float32\n",
      " 3   lon_max        float32\n",
      " 4   rain (mm/day)  float32\n",
      " 5   model          object \n",
      "dtypes: float32(5), object(1)\n",
      "memory usage: 6.3+ GB\n",
      "Memory usage with float32: 6751.50 MB\n"
     ]
    }
   ],
   "source": [
    "df.info()\n",
    "print(f\"Memory usage with float32: {df.memory_usage().sum() / 1e6:.2f} MB\")"
   ]
  },
  {
   "cell_type": "markdown",
   "id": "7d211fb6-b478-4dbc-b5c0-08a83624a08b",
   "metadata": {},
   "source": [
    "| Team Member | Operating System | RAM | Processor | Is SSD | Time taken(Load All columns) | Time taken(Load in chunks) |Time taken(Load red columns) |\n",
    "|:-----------:|:----------------:|:---:|:---------:|:---:|:---:|:---:|:---:|\n",
    "| Affrin Sultana    |   Windows 10 Pro               | 16GB    |    AMD Ryzen 9 5000Series       |   Y    |     59.4s      | 51s | 34.7s\n",
    "| Helin Wang  | Windows 10 Education | 16GB | Intel(R) Core(TM) i5-8250U CPU @ 1.60GHz 1.80 GHz  |  Yes   | 1m25s | 1m18s | 48.1s | \n",
    "| Manju Abhinandana Kumar    |      MacBook Air (M1, 2020)            |  8 GB   |     Apple M1      |   Yes     |     1min 12s       |1min 8s | 46.8 s\n",
    "| Yair Guterman    |    macOS Big Sur    |  8 GB   |    1.8 GHz Dual-Core Intel Core i5       |    Yes    |         13min 52s   | 4min 51s  |3min 1s |"
   ]
  },
  {
   "cell_type": "markdown",
   "id": "c98eafa6-8430-4a17-a8d2-e4b07a4a7ea6",
   "metadata": {},
   "source": [
    "Check if time can be changed to datetime object. "
   ]
  },
  {
   "cell_type": "code",
   "execution_count": 1,
   "id": "3fdca628-ff5c-41aa-9a9d-3acf12907b38",
   "metadata": {},
   "outputs": [],
   "source": [
    "# df.reset_index()\n",
    "# # df['dates'] = pd.to_datetime(df['dates'], format='%Y%m%d')"
   ]
  },
  {
   "cell_type": "code",
   "execution_count": 7,
   "id": "52a58887-e38c-4c13-832d-fd41f588f1d7",
   "metadata": {},
   "outputs": [
    {
     "name": "stdout",
     "output_type": "stream",
     "text": [
      "combined            125027726\n",
      "MPI-ESM1-2-HR         5154240\n",
      "CMCC-ESM2             3541230\n",
      "NorESM2-MM            3541230\n",
      "TaiESM1               3541230\n",
      "CMCC-CM2-SR5          3541230\n",
      "CMCC-CM2-HR4          3541230\n",
      "SAM0-UNICON           3541153\n",
      "GFDL-CM4              3219300\n",
      "FGOALS-f3-L           3219300\n",
      "GFDL-ESM4             3219300\n",
      "MRI-ESM2-0            3037320\n",
      "EC-Earth3-Veg-LR      3037320\n",
      "BCC-CSM2-MR           3035340\n",
      "MIROC6                2070900\n",
      "ACCESS-CM2            1932840\n",
      "ACCESS-ESM1-5         1610700\n",
      "INM-CM5-0             1609650\n",
      "INM-CM4-8             1609650\n",
      "KIOST-ESM             1287720\n",
      "FGOALS-g3             1287720\n",
      "AWI-ESM-1-1-LR         966420\n",
      "MPI-ESM1-2-LR          966420\n",
      "NESM3                  966420\n",
      "MPI-ESM-1-2-HAM        966420\n",
      "NorESM2-LM             919800\n",
      "BCC-ESM1               551880\n",
      "CanESM5                551880\n",
      "observed                46020\n",
      "Name: model, dtype: int64\n",
      "CPU times: user 4min 20s, sys: 3min 13s, total: 7min 33s\n",
      "Wall time: 13min 52s\n"
     ]
    }
   ],
   "source": [
    "%%time\n",
    "df1 = pd.read_csv(\"combined_data.csv\")\n",
    "print(df1[\"model\"].value_counts())"
   ]
  },
  {
   "cell_type": "code",
   "execution_count": 8,
   "id": "eb706e3c-4822-4ae3-9bed-036fcf602d6a",
   "metadata": {},
   "outputs": [
    {
     "data": {
      "text/plain": [
       "(187541589, 7)"
      ]
     },
     "execution_count": 8,
     "metadata": {},
     "output_type": "execute_result"
    }
   ],
   "source": [
    "df1.shape"
   ]
  },
  {
   "cell_type": "markdown",
   "id": "15550a52-212b-4af0-afa5-b2a4ae5e2216",
   "metadata": {},
   "source": [
    "## Loading it by Chunks"
   ]
  },
  {
   "cell_type": "code",
   "execution_count": 9,
   "id": "f7d51f54-4643-43ff-bfdc-a8cd1576f695",
   "metadata": {},
   "outputs": [
    {
     "name": "stdout",
     "output_type": "stream",
     "text": [
      "ACCESS-CM2            1932840\n",
      "ACCESS-ESM1-5         1610700\n",
      "AWI-ESM-1-1-LR         966420\n",
      "BCC-CSM2-MR           3035340\n",
      "BCC-ESM1               551880\n",
      "CMCC-CM2-HR4          3541230\n",
      "CMCC-CM2-SR5          3541230\n",
      "CMCC-ESM2             3541230\n",
      "CanESM5                551880\n",
      "EC-Earth3-Veg-LR      3037320\n",
      "FGOALS-f3-L           3219300\n",
      "FGOALS-g3             1287720\n",
      "GFDL-CM4              3219300\n",
      "GFDL-ESM4             3219300\n",
      "INM-CM4-8             1609650\n",
      "INM-CM5-0             1609650\n",
      "KIOST-ESM             1287720\n",
      "MIROC6                2070900\n",
      "MPI-ESM-1-2-HAM        966420\n",
      "MPI-ESM1-2-HR         5154240\n",
      "MPI-ESM1-2-LR          966420\n",
      "MRI-ESM2-0            3037320\n",
      "NESM3                  966420\n",
      "NorESM2-LM             919800\n",
      "NorESM2-MM            3541230\n",
      "SAM0-UNICON           3541153\n",
      "TaiESM1               3541230\n",
      "combined            125027726\n",
      "observed                46020\n",
      "dtype: int64\n",
      "CPU times: user 3min 48s, sys: 40.7 s, total: 4min 28s\n",
      "Wall time: 4min 51s\n"
     ]
    }
   ],
   "source": [
    "%%time\n",
    "counts = pd.Series(dtype=int)\n",
    "for chunk in pd.read_csv(\"combined_data.csv\", chunksize=10_000_000):\n",
    "    counts = counts.add(chunk[\"model\"].value_counts(), fill_value=0)\n",
    "print(counts.astype(int))"
   ]
  },
  {
   "cell_type": "code",
   "execution_count": null,
   "id": "e813f19c-43f5-410e-b24c-c339fddd70ff",
   "metadata": {},
   "outputs": [],
   "source": [
    "%%time\n",
    "print(df1['rain (mm/day)'].min())"
   ]
  },
  {
   "cell_type": "code",
   "execution_count": null,
   "id": "81ce9f3c-680d-43b1-a706-a1e097959ec2",
   "metadata": {},
   "outputs": [],
   "source": [
    "%%time\n",
    "df1.describe()"
   ]
  },
  {
   "cell_type": "code",
   "execution_count": null,
   "id": "9ff0dc0e-3cbe-423d-8856-8535ed09210f",
   "metadata": {},
   "outputs": [],
   "source": [
    "%%time\n",
    "df1.isnull().sum()"
   ]
  },
  {
   "cell_type": "markdown",
   "id": "3a7679c0-9649-44ca-88ea-6c33e433a195",
   "metadata": {},
   "source": [
    "## Loading only those columns that are needed"
   ]
  },
  {
   "cell_type": "code",
   "execution_count": 13,
   "id": "7322931d-ac54-41dc-953e-009e279b6db5",
   "metadata": {},
   "outputs": [
    {
     "name": "stdout",
     "output_type": "stream",
     "text": [
      "combined            125027726\n",
      "MPI-ESM1-2-HR         5154240\n",
      "CMCC-ESM2             3541230\n",
      "NorESM2-MM            3541230\n",
      "TaiESM1               3541230\n",
      "CMCC-CM2-SR5          3541230\n",
      "CMCC-CM2-HR4          3541230\n",
      "SAM0-UNICON           3541153\n",
      "GFDL-CM4              3219300\n",
      "FGOALS-f3-L           3219300\n",
      "GFDL-ESM4             3219300\n",
      "MRI-ESM2-0            3037320\n",
      "EC-Earth3-Veg-LR      3037320\n",
      "BCC-CSM2-MR           3035340\n",
      "MIROC6                2070900\n",
      "ACCESS-CM2            1932840\n",
      "ACCESS-ESM1-5         1610700\n",
      "INM-CM5-0             1609650\n",
      "INM-CM4-8             1609650\n",
      "KIOST-ESM             1287720\n",
      "FGOALS-g3             1287720\n",
      "AWI-ESM-1-1-LR         966420\n",
      "MPI-ESM1-2-LR          966420\n",
      "NESM3                  966420\n",
      "MPI-ESM-1-2-HAM        966420\n",
      "NorESM2-LM             919800\n",
      "BCC-ESM1               551880\n",
      "CanESM5                551880\n",
      "observed                46020\n",
      "Name: model, dtype: int64\n",
      "CPU times: user 2min 4s, sys: 27.2 s, total: 2min 32s\n",
      "Wall time: 3min 1s\n"
     ]
    }
   ],
   "source": [
    "%%time\n",
    "use_cols = ['rain (mm/day)', 'model']\n",
    "df3 = pd.read_csv(\"combined_data.csv\", usecols = use_cols)\n",
    "\n",
    "print(df3[\"model\"].value_counts())"
   ]
  },
  {
   "cell_type": "code",
   "execution_count": 14,
   "id": "ac2974ae-b988-40b8-aec4-aa8a8ee991f6",
   "metadata": {},
   "outputs": [
    {
     "name": "stdout",
     "output_type": "stream",
     "text": [
      "CPU times: user 14.2 s, sys: 6.72 s, total: 20.9 s\n",
      "Wall time: 26.7 s\n"
     ]
    },
    {
     "data": {
      "text/html": [
       "<div>\n",
       "<style scoped>\n",
       "    .dataframe tbody tr th:only-of-type {\n",
       "        vertical-align: middle;\n",
       "    }\n",
       "\n",
       "    .dataframe tbody tr th {\n",
       "        vertical-align: top;\n",
       "    }\n",
       "\n",
       "    .dataframe thead th {\n",
       "        text-align: right;\n",
       "    }\n",
       "</style>\n",
       "<table border=\"1\" class=\"dataframe\">\n",
       "  <thead>\n",
       "    <tr style=\"text-align: right;\">\n",
       "      <th></th>\n",
       "      <th>rain (mm/day)</th>\n",
       "    </tr>\n",
       "    <tr>\n",
       "      <th>model</th>\n",
       "      <th></th>\n",
       "    </tr>\n",
       "  </thead>\n",
       "  <tbody>\n",
       "    <tr>\n",
       "      <th>ACCESS-CM2</th>\n",
       "      <td>1.787025</td>\n",
       "    </tr>\n",
       "    <tr>\n",
       "      <th>ACCESS-ESM1-5</th>\n",
       "      <td>2.217501</td>\n",
       "    </tr>\n",
       "    <tr>\n",
       "      <th>AWI-ESM-1-1-LR</th>\n",
       "      <td>2.026071</td>\n",
       "    </tr>\n",
       "    <tr>\n",
       "      <th>BCC-CSM2-MR</th>\n",
       "      <td>1.951832</td>\n",
       "    </tr>\n",
       "    <tr>\n",
       "      <th>BCC-ESM1</th>\n",
       "      <td>1.811032</td>\n",
       "    </tr>\n",
       "    <tr>\n",
       "      <th>CMCC-CM2-HR4</th>\n",
       "      <td>2.279350</td>\n",
       "    </tr>\n",
       "    <tr>\n",
       "      <th>CMCC-CM2-SR5</th>\n",
       "      <td>2.383389</td>\n",
       "    </tr>\n",
       "    <tr>\n",
       "      <th>CMCC-ESM2</th>\n",
       "      <td>2.266125</td>\n",
       "    </tr>\n",
       "    <tr>\n",
       "      <th>CanESM5</th>\n",
       "      <td>1.894328</td>\n",
       "    </tr>\n",
       "    <tr>\n",
       "      <th>EC-Earth3-Veg-LR</th>\n",
       "      <td>1.516258</td>\n",
       "    </tr>\n",
       "    <tr>\n",
       "      <th>FGOALS-f3-L</th>\n",
       "      <td>1.627373</td>\n",
       "    </tr>\n",
       "    <tr>\n",
       "      <th>FGOALS-g3</th>\n",
       "      <td>2.156419</td>\n",
       "    </tr>\n",
       "    <tr>\n",
       "      <th>GFDL-CM4</th>\n",
       "      <td>1.414485</td>\n",
       "    </tr>\n",
       "    <tr>\n",
       "      <th>GFDL-ESM4</th>\n",
       "      <td>NaN</td>\n",
       "    </tr>\n",
       "    <tr>\n",
       "      <th>INM-CM4-8</th>\n",
       "      <td>2.811463</td>\n",
       "    </tr>\n",
       "    <tr>\n",
       "      <th>INM-CM5-0</th>\n",
       "      <td>2.669012</td>\n",
       "    </tr>\n",
       "    <tr>\n",
       "      <th>KIOST-ESM</th>\n",
       "      <td>1.102353</td>\n",
       "    </tr>\n",
       "    <tr>\n",
       "      <th>MIROC6</th>\n",
       "      <td>2.301662</td>\n",
       "    </tr>\n",
       "    <tr>\n",
       "      <th>MPI-ESM-1-2-HAM</th>\n",
       "      <td>1.610720</td>\n",
       "    </tr>\n",
       "    <tr>\n",
       "      <th>MPI-ESM1-2-HR</th>\n",
       "      <td>0.995569</td>\n",
       "    </tr>\n",
       "    <tr>\n",
       "      <th>MPI-ESM1-2-LR</th>\n",
       "      <td>1.074308</td>\n",
       "    </tr>\n",
       "    <tr>\n",
       "      <th>MRI-ESM2-0</th>\n",
       "      <td>1.368030</td>\n",
       "    </tr>\n",
       "    <tr>\n",
       "      <th>NESM3</th>\n",
       "      <td>1.621936</td>\n",
       "    </tr>\n",
       "    <tr>\n",
       "      <th>NorESM2-LM</th>\n",
       "      <td>2.230799</td>\n",
       "    </tr>\n",
       "    <tr>\n",
       "      <th>NorESM2-MM</th>\n",
       "      <td>2.232966</td>\n",
       "    </tr>\n",
       "    <tr>\n",
       "      <th>SAM0-UNICON</th>\n",
       "      <td>2.169676</td>\n",
       "    </tr>\n",
       "    <tr>\n",
       "      <th>TaiESM1</th>\n",
       "      <td>2.224576</td>\n",
       "    </tr>\n",
       "    <tr>\n",
       "      <th>combined</th>\n",
       "      <td>1.901827</td>\n",
       "    </tr>\n",
       "    <tr>\n",
       "      <th>observed</th>\n",
       "      <td>2.747656</td>\n",
       "    </tr>\n",
       "  </tbody>\n",
       "</table>\n",
       "</div>"
      ],
      "text/plain": [
       "                  rain (mm/day)\n",
       "model                          \n",
       "ACCESS-CM2             1.787025\n",
       "ACCESS-ESM1-5          2.217501\n",
       "AWI-ESM-1-1-LR         2.026071\n",
       "BCC-CSM2-MR            1.951832\n",
       "BCC-ESM1               1.811032\n",
       "CMCC-CM2-HR4           2.279350\n",
       "CMCC-CM2-SR5           2.383389\n",
       "CMCC-ESM2              2.266125\n",
       "CanESM5                1.894328\n",
       "EC-Earth3-Veg-LR       1.516258\n",
       "FGOALS-f3-L            1.627373\n",
       "FGOALS-g3              2.156419\n",
       "GFDL-CM4               1.414485\n",
       "GFDL-ESM4                   NaN\n",
       "INM-CM4-8              2.811463\n",
       "INM-CM5-0              2.669012\n",
       "KIOST-ESM              1.102353\n",
       "MIROC6                 2.301662\n",
       "MPI-ESM-1-2-HAM        1.610720\n",
       "MPI-ESM1-2-HR          0.995569\n",
       "MPI-ESM1-2-LR          1.074308\n",
       "MRI-ESM2-0             1.368030\n",
       "NESM3                  1.621936\n",
       "NorESM2-LM             2.230799\n",
       "NorESM2-MM             2.232966\n",
       "SAM0-UNICON            2.169676\n",
       "TaiESM1                2.224576\n",
       "combined               1.901827\n",
       "observed               2.747656"
      ]
     },
     "execution_count": 14,
     "metadata": {},
     "output_type": "execute_result"
    }
   ],
   "source": [
    "%%time\n",
    "df3.groupby('model').mean()"
   ]
  },
  {
   "cell_type": "code",
   "execution_count": 15,
   "id": "7c0783ef-12d1-4b7c-8a9c-559713b8c2ab",
   "metadata": {},
   "outputs": [],
   "source": [
    "# df4 = df[(df.lat_min == -36.25) & (df.lon_min == 140.625) & model = \"ACCESS-CM2\"]\n",
    "# print(df4.value_counts())\n",
    "# df4.plot.line(xlabel=\"time\", ylabel=\"rain (mm/day)\", legend=False);"
   ]
  },
  {
   "cell_type": "code",
   "execution_count": 16,
   "id": "7ad1d3cb-78d5-4c54-bd89-1a2534215308",
   "metadata": {},
   "outputs": [],
   "source": [
    "# %%time\n",
    "# mean_rain = df3.groupby('model').mean()\n",
    "\n",
    "# bar = (alt.Chart(df3).mark_bar().encode(\n",
    "#     alt.X(mean_rain, type='quantitative', scale=alt.Scale(zero=False)),\n",
    "#     y = 'model'))\n",
    "    \n",
    "# bar"
   ]
  },
  {
   "cell_type": "markdown",
   "id": "3e8fef49-e2a5-43f9-bc08-96c325e9b4d8",
   "metadata": {},
   "source": [
    "# Perform a simple EDA in R"
   ]
  },
  {
   "cell_type": "markdown",
   "id": "0b20c0fc-09fa-403a-bb23-8a3a9e39216e",
   "metadata": {},
   "source": [
    "### 1. Transfer the dataframe from python to R"
   ]
  },
  {
   "cell_type": "markdown",
   "id": "a69eb6a2-7b97-4a67-921d-2032d22a5046",
   "metadata": {},
   "source": [
    "We finally chose `arrow exchange`as our choice. Fist of all, `Pandas exchange` technique costs a long time and consumes big memory. It also made the kernel dying when we tried it on our laptops. Different from it, for `arrow exchange` method, time spent on this serialization/deserialization process(arrow) is very less and is also a zero-copy process. Secondly,  based on the similar running time, we prefer `arrow exchange` because it can help us save much redundant work and does not require to save data files. Last but not the least, this method is very friendly to work with dplyr."
   ]
  },
  {
   "cell_type": "code",
   "execution_count": 3,
   "id": "55638aa8-75ed-4046-9fc8-4de46a7910c3",
   "metadata": {},
   "outputs": [],
   "source": [
    "%load_ext rpy2.ipython"
   ]
  },
  {
   "cell_type": "code",
   "execution_count": 4,
   "id": "e1fec8a0-3b07-42ea-82e0-e401025f73c2",
   "metadata": {},
   "outputs": [],
   "source": [
    "import pyarrow.dataset as ds\n",
    "import pyarrow as pa\n",
    "import pandas as pd\n",
    "import pyarrow \n",
    "from pyarrow import csv\n",
    "import rpy2_arrow.pyarrow_rarrow as pyra"
   ]
  },
  {
   "cell_type": "code",
   "execution_count": 5,
   "id": "d11be185-c681-46e3-9baf-201c6285eae6",
   "metadata": {},
   "outputs": [],
   "source": [
    "%%R\n",
    "suppressMessages(library(dplyr, warn.conflicts = FALSE))\n",
    "suppressMessages(library(arrow, warn.conflicts = FALSE))\n",
    "suppressMessages(library(ggplot2, warn.conflicts = FALSE))"
   ]
  },
  {
   "cell_type": "markdown",
   "id": "1eabd3da-c7c7-436a-bac7-0326480088a3",
   "metadata": {},
   "source": [
    "**Feather**"
   ]
  },
  {
   "cell_type": "code",
   "execution_count": 20,
   "id": "3c89c929-3048-4720-8275-97edd4967994",
   "metadata": {},
   "outputs": [
    {
     "ename": "KeyboardInterrupt",
     "evalue": "",
     "output_type": "error",
     "traceback": [
      "\u001b[0;31m---------------------------------------------------------------------------\u001b[0m",
      "\u001b[0;31mKeyboardInterrupt\u001b[0m                         Traceback (most recent call last)",
      "File \u001b[0;32m<timed exec>:1\u001b[0m, in \u001b[0;36m<module>\u001b[0;34m\u001b[0m\n",
      "File \u001b[0;32m~/opt/miniconda3/envs/525_2022/lib/python3.8/site-packages/pandas/util/_decorators.py:311\u001b[0m, in \u001b[0;36mdeprecate_nonkeyword_arguments.<locals>.decorate.<locals>.wrapper\u001b[0;34m(*args, **kwargs)\u001b[0m\n\u001b[1;32m    305\u001b[0m \u001b[38;5;28;01mif\u001b[39;00m \u001b[38;5;28mlen\u001b[39m(args) \u001b[38;5;241m>\u001b[39m num_allow_args:\n\u001b[1;32m    306\u001b[0m     warnings\u001b[38;5;241m.\u001b[39mwarn(\n\u001b[1;32m    307\u001b[0m         msg\u001b[38;5;241m.\u001b[39mformat(arguments\u001b[38;5;241m=\u001b[39marguments),\n\u001b[1;32m    308\u001b[0m         \u001b[38;5;167;01mFutureWarning\u001b[39;00m,\n\u001b[1;32m    309\u001b[0m         stacklevel\u001b[38;5;241m=\u001b[39mstacklevel,\n\u001b[1;32m    310\u001b[0m     )\n\u001b[0;32m--> 311\u001b[0m \u001b[38;5;28;01mreturn\u001b[39;00m \u001b[43mfunc\u001b[49m\u001b[43m(\u001b[49m\u001b[38;5;241;43m*\u001b[39;49m\u001b[43margs\u001b[49m\u001b[43m,\u001b[49m\u001b[43m \u001b[49m\u001b[38;5;241;43m*\u001b[39;49m\u001b[38;5;241;43m*\u001b[39;49m\u001b[43mkwargs\u001b[49m\u001b[43m)\u001b[49m\n",
      "File \u001b[0;32m~/opt/miniconda3/envs/525_2022/lib/python3.8/site-packages/pandas/io/parsers/readers.py:680\u001b[0m, in \u001b[0;36mread_csv\u001b[0;34m(filepath_or_buffer, sep, delimiter, header, names, index_col, usecols, squeeze, prefix, mangle_dupe_cols, dtype, engine, converters, true_values, false_values, skipinitialspace, skiprows, skipfooter, nrows, na_values, keep_default_na, na_filter, verbose, skip_blank_lines, parse_dates, infer_datetime_format, keep_date_col, date_parser, dayfirst, cache_dates, iterator, chunksize, compression, thousands, decimal, lineterminator, quotechar, quoting, doublequote, escapechar, comment, encoding, encoding_errors, dialect, error_bad_lines, warn_bad_lines, on_bad_lines, delim_whitespace, low_memory, memory_map, float_precision, storage_options)\u001b[0m\n\u001b[1;32m    665\u001b[0m kwds_defaults \u001b[38;5;241m=\u001b[39m _refine_defaults_read(\n\u001b[1;32m    666\u001b[0m     dialect,\n\u001b[1;32m    667\u001b[0m     delimiter,\n\u001b[0;32m   (...)\u001b[0m\n\u001b[1;32m    676\u001b[0m     defaults\u001b[38;5;241m=\u001b[39m{\u001b[38;5;124m\"\u001b[39m\u001b[38;5;124mdelimiter\u001b[39m\u001b[38;5;124m\"\u001b[39m: \u001b[38;5;124m\"\u001b[39m\u001b[38;5;124m,\u001b[39m\u001b[38;5;124m\"\u001b[39m},\n\u001b[1;32m    677\u001b[0m )\n\u001b[1;32m    678\u001b[0m kwds\u001b[38;5;241m.\u001b[39mupdate(kwds_defaults)\n\u001b[0;32m--> 680\u001b[0m \u001b[38;5;28;01mreturn\u001b[39;00m \u001b[43m_read\u001b[49m\u001b[43m(\u001b[49m\u001b[43mfilepath_or_buffer\u001b[49m\u001b[43m,\u001b[49m\u001b[43m \u001b[49m\u001b[43mkwds\u001b[49m\u001b[43m)\u001b[49m\n",
      "File \u001b[0;32m~/opt/miniconda3/envs/525_2022/lib/python3.8/site-packages/pandas/io/parsers/readers.py:581\u001b[0m, in \u001b[0;36m_read\u001b[0;34m(filepath_or_buffer, kwds)\u001b[0m\n\u001b[1;32m    578\u001b[0m     \u001b[38;5;28;01mreturn\u001b[39;00m parser\n\u001b[1;32m    580\u001b[0m \u001b[38;5;28;01mwith\u001b[39;00m parser:\n\u001b[0;32m--> 581\u001b[0m     \u001b[38;5;28;01mreturn\u001b[39;00m \u001b[43mparser\u001b[49m\u001b[38;5;241;43m.\u001b[39;49m\u001b[43mread\u001b[49m\u001b[43m(\u001b[49m\u001b[43mnrows\u001b[49m\u001b[43m)\u001b[49m\n",
      "File \u001b[0;32m~/opt/miniconda3/envs/525_2022/lib/python3.8/site-packages/pandas/io/parsers/readers.py:1250\u001b[0m, in \u001b[0;36mTextFileReader.read\u001b[0;34m(self, nrows)\u001b[0m\n\u001b[1;32m   1248\u001b[0m nrows \u001b[38;5;241m=\u001b[39m validate_integer(\u001b[38;5;124m\"\u001b[39m\u001b[38;5;124mnrows\u001b[39m\u001b[38;5;124m\"\u001b[39m, nrows)\n\u001b[1;32m   1249\u001b[0m \u001b[38;5;28;01mtry\u001b[39;00m:\n\u001b[0;32m-> 1250\u001b[0m     index, columns, col_dict \u001b[38;5;241m=\u001b[39m \u001b[38;5;28;43mself\u001b[39;49m\u001b[38;5;241;43m.\u001b[39;49m\u001b[43m_engine\u001b[49m\u001b[38;5;241;43m.\u001b[39;49m\u001b[43mread\u001b[49m\u001b[43m(\u001b[49m\u001b[43mnrows\u001b[49m\u001b[43m)\u001b[49m\n\u001b[1;32m   1251\u001b[0m \u001b[38;5;28;01mexcept\u001b[39;00m \u001b[38;5;167;01mException\u001b[39;00m:\n\u001b[1;32m   1252\u001b[0m     \u001b[38;5;28mself\u001b[39m\u001b[38;5;241m.\u001b[39mclose()\n",
      "File \u001b[0;32m~/opt/miniconda3/envs/525_2022/lib/python3.8/site-packages/pandas/io/parsers/c_parser_wrapper.py:227\u001b[0m, in \u001b[0;36mCParserWrapper.read\u001b[0;34m(self, nrows)\u001b[0m\n\u001b[1;32m    225\u001b[0m     chunks \u001b[38;5;241m=\u001b[39m \u001b[38;5;28mself\u001b[39m\u001b[38;5;241m.\u001b[39m_reader\u001b[38;5;241m.\u001b[39mread_low_memory(nrows)\n\u001b[1;32m    226\u001b[0m     \u001b[38;5;66;03m# destructive to chunks\u001b[39;00m\n\u001b[0;32m--> 227\u001b[0m     data \u001b[38;5;241m=\u001b[39m \u001b[43m_concatenate_chunks\u001b[49m\u001b[43m(\u001b[49m\u001b[43mchunks\u001b[49m\u001b[43m)\u001b[49m\n\u001b[1;32m    229\u001b[0m \u001b[38;5;28;01melse\u001b[39;00m:\n\u001b[1;32m    230\u001b[0m     data \u001b[38;5;241m=\u001b[39m \u001b[38;5;28mself\u001b[39m\u001b[38;5;241m.\u001b[39m_reader\u001b[38;5;241m.\u001b[39mread(nrows)\n",
      "File \u001b[0;32m~/opt/miniconda3/envs/525_2022/lib/python3.8/site-packages/pandas/io/parsers/c_parser_wrapper.py:394\u001b[0m, in \u001b[0;36m_concatenate_chunks\u001b[0;34m(chunks)\u001b[0m\n\u001b[1;32m    383\u001b[0m             result[name] \u001b[38;5;241m=\u001b[39m array_type\u001b[38;5;241m.\u001b[39m_concat_same_type(\n\u001b[1;32m    384\u001b[0m                 arrs  \u001b[38;5;66;03m# type: ignore[arg-type]\u001b[39;00m\n\u001b[1;32m    385\u001b[0m             )\n\u001b[1;32m    386\u001b[0m         \u001b[38;5;28;01melse\u001b[39;00m:\n\u001b[1;32m    387\u001b[0m             \u001b[38;5;66;03m# Argument 1 to \"concatenate\" has incompatible type\u001b[39;00m\n\u001b[1;32m    388\u001b[0m             \u001b[38;5;66;03m# \"List[Union[ExtensionArray, ndarray[Any, Any]]]\"; expected\u001b[39;00m\n\u001b[0;32m   (...)\u001b[0m\n\u001b[1;32m    392\u001b[0m             \u001b[38;5;66;03m# Sequence[Sequence[Sequence[_SupportsArray[dtype[Any]]]]],\u001b[39;00m\n\u001b[1;32m    393\u001b[0m             \u001b[38;5;66;03m# Sequence[Sequence[Sequence[Sequence[_SupportsArray[dtype[Any]]]]]]]\"\u001b[39;00m\n\u001b[0;32m--> 394\u001b[0m             result[name] \u001b[38;5;241m=\u001b[39m \u001b[43mnp\u001b[49m\u001b[38;5;241;43m.\u001b[39;49m\u001b[43mconcatenate\u001b[49m\u001b[43m(\u001b[49m\u001b[43marrs\u001b[49m\u001b[43m)\u001b[49m  \u001b[38;5;66;03m# type: ignore[arg-type]\u001b[39;00m\n\u001b[1;32m    396\u001b[0m \u001b[38;5;28;01mif\u001b[39;00m warning_columns:\n\u001b[1;32m    397\u001b[0m     warning_names \u001b[38;5;241m=\u001b[39m \u001b[38;5;124m\"\u001b[39m\u001b[38;5;124m,\u001b[39m\u001b[38;5;124m\"\u001b[39m\u001b[38;5;241m.\u001b[39mjoin(warning_columns)\n",
      "File \u001b[0;32m<__array_function__ internals>:180\u001b[0m, in \u001b[0;36mconcatenate\u001b[0;34m(*args, **kwargs)\u001b[0m\n",
      "\u001b[0;31mKeyboardInterrupt\u001b[0m: "
     ]
    }
   ],
   "source": [
    "%%time\n",
    "df = pd.read_csv(\"combined_data.csv\")\n",
    "df.to_feather(\"combined_data.feather\")"
   ]
  },
  {
   "cell_type": "code",
   "execution_count": 21,
   "id": "4bd85b59-a54e-4e8f-a794-ceb9e3d5daf7",
   "metadata": {},
   "outputs": [
    {
     "name": "stderr",
     "output_type": "stream",
     "text": [
      "du: combined_data.feather: No such file or directory\n",
      "\n",
      "KeyboardInterrupt\n",
      "\n"
     ]
    }
   ],
   "source": [
    "%%sh\n",
    "\n",
    "# check the feather file size\n",
    "du -sh combined_data.feather"
   ]
  },
  {
   "cell_type": "code",
   "execution_count": null,
   "id": "cc5e01f5-a68c-4047-b45d-8433201ce4f2",
   "metadata": {},
   "outputs": [],
   "source": [
    "%%time\n",
    "%%R\n",
    "\n",
    "# Read feather file\n",
    "df_feather <- open_dataset(\"combined_data.feather\", format=\"feather\")"
   ]
  },
  {
   "cell_type": "code",
   "execution_count": null,
   "id": "44f21d00-ff18-4d9e-9da8-53b16172f7ba",
   "metadata": {},
   "outputs": [],
   "source": [
    "%%time\n",
    "%%R\n",
    "print(df_feather %>% collect)"
   ]
  },
  {
   "cell_type": "markdown",
   "id": "0c749a9d-1fa5-4dc1-9c34-8cf753ca92e0",
   "metadata": {},
   "source": [
    "**Parquet**"
   ]
  },
  {
   "cell_type": "code",
   "execution_count": null,
   "id": "99ed82a7-41e9-4181-8e23-94a8c43c8459",
   "metadata": {},
   "outputs": [],
   "source": [
    "%%time\n",
    "df.to_parquet(\"combined_data.parquet\")"
   ]
  },
  {
   "cell_type": "code",
   "execution_count": null,
   "id": "abe4d7e4-7b7d-4eac-b9d1-037e55bfc1b7",
   "metadata": {},
   "outputs": [],
   "source": [
    "%%time\n",
    "%%R\n",
    "df_pq <- open_dataset(\"combined_data.parquet\", format=\"parquet\")"
   ]
  },
  {
   "cell_type": "code",
   "execution_count": null,
   "id": "5e1bb8d8-6045-429c-abb6-ad8e7c517e17",
   "metadata": {},
   "outputs": [],
   "source": [
    "%%time\n",
    "%%R\n",
    "df_pq_final <- df_pq %>% collect\n",
    "print(df_pq_final)"
   ]
  },
  {
   "cell_type": "markdown",
   "id": "80534933-eeb8-49d4-8e1e-79be0e8551d0",
   "metadata": {
    "tags": []
   },
   "source": [
    "**Arrow exchange**"
   ]
  },
  {
   "cell_type": "code",
   "execution_count": 6,
   "id": "89db681a-fbd3-4bfd-b4c6-b6f0103ff8e0",
   "metadata": {
    "tags": []
   },
   "outputs": [
    {
     "name": "stdout",
     "output_type": "stream",
     "text": [
      "CPU times: user 4min 4s, sys: 32.2 s, total: 4min 36s\n",
      "Wall time: 5min 11s\n"
     ]
    }
   ],
   "source": [
    "%%time\n",
    "dataset = ds.dataset(\"combined_data.csv\", format=\"csv\")\n",
    "table = dataset.to_table()\n",
    "r_table = pyra.converter.py2rpy(table)"
   ]
  },
  {
   "cell_type": "code",
   "execution_count": 7,
   "id": "93c662e6-01ea-4f48-9ddd-1cc271f7ca06",
   "metadata": {
    "tags": []
   },
   "outputs": [
    {
     "name": "stdout",
     "output_type": "stream",
     "text": [
      "# A tibble: 187,541,589 × 7\n",
      "   time                lat_min lat_max lon_min lon_max `rain (mm/day)` model    \n",
      "   <dttm>                <dbl>   <dbl>   <dbl>   <dbl>           <dbl> <chr>    \n",
      " 1 1889-01-01 04:00:00   -35.4   -33.6    142.    143.        4.24e-13 MPI-ESM-…\n",
      " 2 1889-01-02 04:00:00   -35.4   -33.6    142.    143.        4.22e-13 MPI-ESM-…\n",
      " 3 1889-01-03 04:00:00   -35.4   -33.6    142.    143.        4.50e-13 MPI-ESM-…\n",
      " 4 1889-01-04 04:00:00   -35.4   -33.6    142.    143.        4.25e-13 MPI-ESM-…\n",
      " 5 1889-01-05 04:00:00   -35.4   -33.6    142.    143.        4.27e-13 MPI-ESM-…\n",
      " 6 1889-01-06 04:00:00   -35.4   -33.6    142.    143.        4.20e-13 MPI-ESM-…\n",
      " 7 1889-01-07 04:00:00   -35.4   -33.6    142.    143.        4.19e-13 MPI-ESM-…\n",
      " 8 1889-01-08 04:00:00   -35.4   -33.6    142.    143.        4.56e-13 MPI-ESM-…\n",
      " 9 1889-01-09 04:00:00   -35.4   -33.6    142.    143.        2.53e+ 0 MPI-ESM-…\n",
      "10 1889-01-10 04:00:00   -35.4   -33.6    142.    143.        4.12e- 2 MPI-ESM-…\n",
      "# … with 187,541,579 more rows\n",
      "Time difference of 0.003921986 secs\n",
      "CPU times: user 27.8 s, sys: 1min 26s, total: 1min 54s\n",
      "Wall time: 5min 7s\n"
     ]
    }
   ],
   "source": [
    "%%time\n",
    "%%R -i r_table\n",
    "start_time <- Sys.time()\n",
    "suppressMessages(library(dplyr))\n",
    "df_ae <- r_table \n",
    "end_time <- Sys.time()\n",
    "df_ae_final <- df_ae %>% collect()\n",
    "print(df_ae %>% collect())\n",
    "print(end_time - start_time)"
   ]
  },
  {
   "cell_type": "markdown",
   "id": "beacc9bf-0dc0-4d0b-9700-a578ba9b0b7e",
   "metadata": {
    "tags": []
   },
   "source": [
    "### 2. EDA in R: Mean Rain by all models and Distribution or rain fall by model"
   ]
  },
  {
   "cell_type": "code",
   "execution_count": 8,
   "id": "40c29e19-67b4-41bc-945c-aa6aef323e1b",
   "metadata": {},
   "outputs": [
    {
     "data": {
      "image/png": "[encoded data removed]"
     },
     "metadata": {},
     "output_type": "display_data"
    },
    {
     "name": "stdout",
     "output_type": "stream",
     "text": [
      "CPU times: user 30.3 s, sys: 42.5 s, total: 1min 12s\n",
      "Wall time: 2min 27s\n"
     ]
    }
   ],
   "source": [
    "%%time\n",
    "%%R\n",
    "names(df_ae_final) <- make.names(names(df_ae_final), unique=TRUE)\n",
    "df_ae_final %>% group_by(model) %>% summarise(mean_rain = mean(rain..mm.day.)) %>% ggplot((aes(x=model,y=mean_rain))) + geom_bar(stat='identity')+ theme(axis.text.x = element_text(angle = 90, vjust = 0.5, hjust=1))\n",
    "                                              \n",
    "                                              \n",
    "                                              \n",
    "                                              "
   ]
  },
  {
   "cell_type": "code",
   "execution_count": 9,
   "id": "cfbc50b2-7a7d-4a55-96fe-69311b1b1f5e",
   "metadata": {},
   "outputs": [
    {
     "name": "stdout",
     "output_type": "stream",
     "text": [
      "tibble [187,541,589 × 7] (S3: tbl_df/tbl/data.frame)\n",
      " $ time         : POSIXct[1:187541589], format: \"1889-01-01 04:00:00\" \"1889-01-02 04:00:00\" ...\n",
      " $ lat_min      : num [1:187541589] -35.4 -35.4 -35.4 -35.4 -35.4 ...\n",
      " $ lat_max      : num [1:187541589] -33.6 -33.6 -33.6 -33.6 -33.6 ...\n",
      " $ lon_min      : num [1:187541589] 142 142 142 142 142 ...\n",
      " $ lon_max      : num [1:187541589] 143 143 143 143 143 ...\n",
      " $ rain..mm.day.: num [1:187541589] 4.24e-13 4.22e-13 4.50e-13 4.25e-13 4.27e-13 ...\n",
      " $ model        : chr [1:187541589] \"MPI-ESM-1-2-HAM\" \"MPI-ESM-1-2-HAM\" \"MPI-ESM-1-2-HAM\" \"MPI-ESM-1-2-HAM\" ...\n",
      "CPU times: user 204 ms, sys: 177 ms, total: 381 ms\n",
      "Wall time: 986 ms\n"
     ]
    }
   ],
   "source": [
    "%%time\n",
    "%%R\n",
    "str(df_ae_final)"
   ]
  },
  {
   "cell_type": "markdown",
   "id": "bd087ce0-f3a8-49f6-9f37-0e8693e7dedd",
   "metadata": {},
   "source": [
    "| Team Member | Operating System | RAM | Processor | Is SSD | Time taken(load chart 1) | Time taken(str)|\n",
    "|:-----------:|:----------------:|:---:|:---------:|:---:|:---:|:---:|\n",
    "| Affrin Sultana    |   Windows 10 Pro   | 16GB    |    AMD Ryzen 9 5000Series    |   Y    |         | |\n",
    "| Helin Wang  | Windows 10 Education | 16GB | Intel(R) Core(TM) i5-8250U CPU @ 1.60GHz 1.80 GHz  |  Yes   | | |\n",
    "| Manju Abhinandana Kumar    |      MacBook Air (M1, 2020)|  8 GB   |     Apple M1      |   Yes     |       | |\n",
    "| Yair Guterman    |    macOS Big Sur    |  8 GB   |    1.8 GHz Dual-Core Intel Core i5       |    Yes    | 2min 45s  |986 ms |"
   ]
  },
  {
   "cell_type": "code",
   "execution_count": null,
   "id": "8ad590aa-63b6-4901-a017-5ffd397d9426",
   "metadata": {},
   "outputs": [],
   "source": []
  }
 ],
 "metadata": {
  "kernelspec": {
   "display_name": "Python [conda env:525_2022]",
   "language": "python",
   "name": "conda-env-525_2022-py"
  },
  "language_info": {
   "codemirror_mode": {
    "name": "ipython",
    "version": 3
   },
   "file_extension": ".py",
   "mimetype": "text/x-python",
   "name": "python",
   "nbconvert_exporter": "python",
   "pygments_lexer": "ipython3",
   "version": "3.8.6"
  }
 },
 "nbformat": 4,
 "nbformat_minor": 5
}
