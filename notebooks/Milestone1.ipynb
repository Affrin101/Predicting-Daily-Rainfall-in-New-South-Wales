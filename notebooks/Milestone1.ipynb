{
 "cells": [
  {
   "cell_type": "code",
   "execution_count": 1,
   "id": "f4ffb3e7-ebba-48ce-a978-ff3f3db2954c",
   "metadata": {},
   "outputs": [],
   "source": [
    "import re\n",
    "import os\n",
    "import glob\n",
    "import zipfile\n",
    "import requests\n",
    "from urllib.request import urlretrieve\n",
    "import json\n",
    "import pandas as pd\n",
    "import matplotlib as mpl\n",
    "import matplotlib.pyplot as plt"
   ]
  },
  {
   "cell_type": "markdown",
   "id": "d0d5b2ee-b6ae-4975-b1fe-19a6951bd086",
   "metadata": {},
   "source": [
    "# Downloading the data"
   ]
  },
  {
   "cell_type": "code",
   "execution_count": 2,
   "id": "47a951e7-8565-4554-b3fa-4156bbe962a7",
   "metadata": {},
   "outputs": [],
   "source": [
    "# Necessary metadata\n",
    "article_id = 14096681  # this is the unique identifier of the article on figshare\n",
    "\n",
    "url = f\"https://api.figshare.com/v2/articles/{article_id}\"\n",
    "headers = {\"Content-Type\": \"application/json\"}\n",
    "output_directory = \"figsharerainfall/\""
   ]
  },
  {
   "cell_type": "code",
   "execution_count": 3,
   "id": "d5a6195c-9da4-4ad4-8143-96b0f1775800",
   "metadata": {},
   "outputs": [
    {
     "data": {
      "text/plain": [
       "[{'id': 26579150,\n",
       "  'name': 'daily_rainfall_2014.png',\n",
       "  'size': 58863,\n",
       "  'is_link_only': False,\n",
       "  'download_url': 'https://ndownloader.figshare.com/files/26579150',\n",
       "  'supplied_md5': 'fd32a2ffde300a31f8d63b1825d47e5e',\n",
       "  'computed_md5': 'fd32a2ffde300a31f8d63b1825d47e5e'},\n",
       " {'id': 26579171,\n",
       "  'name': 'environment.yml',\n",
       "  'size': 192,\n",
       "  'is_link_only': False,\n",
       "  'download_url': 'https://ndownloader.figshare.com/files/26579171',\n",
       "  'supplied_md5': '060b2020017eed93a1ee7dd8c65b2f34',\n",
       "  'computed_md5': '060b2020017eed93a1ee7dd8c65b2f34'},\n",
       " {'id': 26586554,\n",
       "  'name': 'README.md',\n",
       "  'size': 5422,\n",
       "  'is_link_only': False,\n",
       "  'download_url': 'https://ndownloader.figshare.com/files/26586554',\n",
       "  'supplied_md5': '61858c6cc0e6a6d6663a7e4c75bbd88c',\n",
       "  'computed_md5': '61858c6cc0e6a6d6663a7e4c75bbd88c'},\n",
       " {'id': 26766812,\n",
       "  'name': 'data.zip',\n",
       "  'size': 814041183,\n",
       "  'is_link_only': False,\n",
       "  'download_url': 'https://ndownloader.figshare.com/files/26766812',\n",
       "  'supplied_md5': 'b517383f76e77bd03755a63a8ff83ee9',\n",
       "  'computed_md5': 'b517383f76e77bd03755a63a8ff83ee9'},\n",
       " {'id': 26766815,\n",
       "  'name': 'get_data.py',\n",
       "  'size': 4113,\n",
       "  'is_link_only': False,\n",
       "  'download_url': 'https://ndownloader.figshare.com/files/26766815',\n",
       "  'supplied_md5': '7829028495fd9dec9680ea013474afa6',\n",
       "  'computed_md5': '7829028495fd9dec9680ea013474afa6'}]"
      ]
     },
     "execution_count": 3,
     "metadata": {},
     "output_type": "execute_result"
    }
   ],
   "source": [
    "response = requests.request(\"GET\", url, headers=headers)\n",
    "data = json.loads(response.text)  # this contains all the articles data, feel free to check it out\n",
    "files = data[\"files\"]             # this is just the data about the files, which is what we want\n",
    "files"
   ]
  },
  {
   "cell_type": "code",
   "execution_count": 4,
   "id": "0c999701-ef77-46bc-9ba8-ec962aedc26e",
   "metadata": {},
   "outputs": [
    {
     "name": "stdout",
     "output_type": "stream",
     "text": [
      "CPU times: total: 12.6 s\n",
      "Wall time: 14min 38s\n"
     ]
    }
   ],
   "source": [
    "%%time\n",
    "files_to_dl = [\"data.zip\"] \n",
    "for file in files:\n",
    "    if file[\"name\"] in files_to_dl:\n",
    "        os.makedirs(output_directory, exist_ok=True)\n",
    "        urlretrieve(file[\"download_url\"], output_directory + file[\"name\"])"
   ]
  },
  {
   "cell_type": "code",
   "execution_count": 5,
   "id": "328b7cd1-f4c4-4e23-aead-34c570f56059",
   "metadata": {},
   "outputs": [
    {
     "name": "stdout",
     "output_type": "stream",
     "text": [
      "CPU times: total: 20.2 s\n",
      "Wall time: 26.5 s\n"
     ]
    }
   ],
   "source": [
    "%%time\n",
    "with zipfile.ZipFile(os.path.join(output_directory, \"data.zip\"), 'r') as f:\n",
    "    f.extractall(output_directory)"
   ]
  },
  {
   "cell_type": "code",
   "execution_count": 6,
   "id": "4b690a99-054c-45b1-a8e0-ac07098bb890",
   "metadata": {},
   "outputs": [],
   "source": [
    "os.chdir(\"figsharerainfall\")"
   ]
  },
  {
   "cell_type": "code",
   "execution_count": 7,
   "id": "9a37109f-2fc0-4005-8119-837c10c98c37",
   "metadata": {},
   "outputs": [],
   "source": [
    "# remove observed_daily_rainfall.csv file \n",
    "exclude_file = 'observed_daily_rainfall_SYD.csv'\n",
    "os.remove(exclude_file)"
   ]
  },
  {
   "cell_type": "markdown",
   "id": "6b8ad161-5e18-4c7c-a994-e5136435e4d9",
   "metadata": {},
   "source": [
    "# Combining data CSVs"
   ]
  },
  {
   "cell_type": "code",
   "execution_count": 8,
   "id": "6b52ddf4-b9fd-44c0-bec2-83b5659b2d76",
   "metadata": {},
   "outputs": [
    {
     "name": "stdout",
     "output_type": "stream",
     "text": [
      "CPU times: total: 6min 34s\n",
      "Wall time: 6min 49s\n"
     ]
    }
   ],
   "source": [
    "%%time\n",
    "## using a normal python way for merging the data \n",
    "import pandas as pd\n",
    "\n",
    "# files = glob.glob('figsharerainfall/*.csv')\n",
    "extension = 'csv'\n",
    "all_filenames = glob.glob('*.{}'.format(extension))\n",
    "\n",
    "df = pd.concat((pd.read_csv(file, index_col=0)\n",
    "                # .assign(model=re.findall(r'(?<=\\/)[^_]+(?=_)', file))\n",
    "                .assign(model=re.findall(r'^[^_]+(?=_)', file)[0])\n",
    "                for file in all_filenames)\n",
    "              )\n",
    "\n",
    "df.to_csv(\"combined_data.csv\")"
   ]
  },
  {
   "cell_type": "markdown",
   "id": "e930dfa5-a91a-45f2-80e6-41a3afc1bf62",
   "metadata": {},
   "source": [
    "* We have combined data csv from data.zip to a single csv.\n",
    "* The time taken to combine the csv varied between 6min to 32min 52s when ran across 2 Windows and 2 Mac systems. \n",
    "* Mac OS M1 was able to work on combining the datafile into a single CSV slightly faster than Windows. One of our teammates used Mac 8GB i5 processor and the processor performed extremely slow in comparison to 16GB Windows i5 Processor and 8GB  M1 Mac system.So, maybe the more powerful the processor is , the faster it performs and the performance also depends on RAM. \n",
    "* The time taken on each group members' laptops is shown below:"
   ]
  },
  {
   "cell_type": "markdown",
   "id": "d30dd7c6-3e44-481b-928f-08d482bd04d3",
   "metadata": {},
   "source": [
    "| Team Member | Operating System | RAM | Processor | Is SSD | Time taken |\n",
    "|:-----------:|:----------------:|:---:|:---------:|:------:|:----------:|\n",
    "| Affrin Sultana    |   Windows 10 Education               | 16GB    |    AMD Ryzen 9 5000Series       |   Yes     |     6m39s       |\n",
    "| Helin Wang  | Windows 10 Education | 16GB | Intel(R) Core(TM) i5-8250U CPU @ 1.60GHz   1.80 GHz |  Yes     | 8m1s |\n",
    "| Manju Abhinandana Kumar    |    MacBook Air (M1, 2020)              |   8 GB  |  Apple M1         |   Yes     |      6min 22s      |\n",
    "| Yair Guterman    |    macOS Big Sur    |  8 GB   |    1.8 GHz Dual-Core Intel Core i5       |    Yes    |         32min 52s   |"
   ]
  },
  {
   "cell_type": "markdown",
   "id": "73018194-c697-4f7d-8bfc-4e79f2c011c5",
   "metadata": {},
   "source": [
    "# Simple EDA"
   ]
  },
  {
   "cell_type": "code",
   "execution_count": 9,
   "id": "4c09fe17-bb89-448c-8ea1-482e025bab8c",
   "metadata": {},
   "outputs": [
    {
     "data": {
      "text/html": [
       "<div>\n",
       "<style scoped>\n",
       "    .dataframe tbody tr th:only-of-type {\n",
       "        vertical-align: middle;\n",
       "    }\n",
       "\n",
       "    .dataframe tbody tr th {\n",
       "        vertical-align: top;\n",
       "    }\n",
       "\n",
       "    .dataframe thead th {\n",
       "        text-align: right;\n",
       "    }\n",
       "</style>\n",
       "<table border=\"1\" class=\"dataframe\">\n",
       "  <thead>\n",
       "    <tr style=\"text-align: right;\">\n",
       "      <th></th>\n",
       "      <th>lat_min</th>\n",
       "      <th>lat_max</th>\n",
       "      <th>lon_min</th>\n",
       "      <th>lon_max</th>\n",
       "      <th>rain (mm/day)</th>\n",
       "      <th>model</th>\n",
       "    </tr>\n",
       "    <tr>\n",
       "      <th>time</th>\n",
       "      <th></th>\n",
       "      <th></th>\n",
       "      <th></th>\n",
       "      <th></th>\n",
       "      <th></th>\n",
       "      <th></th>\n",
       "    </tr>\n",
       "  </thead>\n",
       "  <tbody>\n",
       "    <tr>\n",
       "      <th>2014-12-27 12:00:00</th>\n",
       "      <td>-30.157068</td>\n",
       "      <td>-29.21466</td>\n",
       "      <td>153.125</td>\n",
       "      <td>154.375</td>\n",
       "      <td>0.554375</td>\n",
       "      <td>TaiESM1</td>\n",
       "    </tr>\n",
       "    <tr>\n",
       "      <th>2014-12-28 12:00:00</th>\n",
       "      <td>-30.157068</td>\n",
       "      <td>-29.21466</td>\n",
       "      <td>153.125</td>\n",
       "      <td>154.375</td>\n",
       "      <td>7.028577</td>\n",
       "      <td>TaiESM1</td>\n",
       "    </tr>\n",
       "    <tr>\n",
       "      <th>2014-12-29 12:00:00</th>\n",
       "      <td>-30.157068</td>\n",
       "      <td>-29.21466</td>\n",
       "      <td>153.125</td>\n",
       "      <td>154.375</td>\n",
       "      <td>0.234757</td>\n",
       "      <td>TaiESM1</td>\n",
       "    </tr>\n",
       "    <tr>\n",
       "      <th>2014-12-30 12:00:00</th>\n",
       "      <td>-30.157068</td>\n",
       "      <td>-29.21466</td>\n",
       "      <td>153.125</td>\n",
       "      <td>154.375</td>\n",
       "      <td>2.097459</td>\n",
       "      <td>TaiESM1</td>\n",
       "    </tr>\n",
       "    <tr>\n",
       "      <th>2014-12-31 12:00:00</th>\n",
       "      <td>-30.157068</td>\n",
       "      <td>-29.21466</td>\n",
       "      <td>153.125</td>\n",
       "      <td>154.375</td>\n",
       "      <td>0.548421</td>\n",
       "      <td>TaiESM1</td>\n",
       "    </tr>\n",
       "  </tbody>\n",
       "</table>\n",
       "</div>"
      ],
      "text/plain": [
       "                       lat_min   lat_max  lon_min  lon_max  rain (mm/day)  \\\n",
       "time                                                                        \n",
       "2014-12-27 12:00:00 -30.157068 -29.21466  153.125  154.375       0.554375   \n",
       "2014-12-28 12:00:00 -30.157068 -29.21466  153.125  154.375       7.028577   \n",
       "2014-12-29 12:00:00 -30.157068 -29.21466  153.125  154.375       0.234757   \n",
       "2014-12-30 12:00:00 -30.157068 -29.21466  153.125  154.375       2.097459   \n",
       "2014-12-31 12:00:00 -30.157068 -29.21466  153.125  154.375       0.548421   \n",
       "\n",
       "                       model  \n",
       "time                          \n",
       "2014-12-27 12:00:00  TaiESM1  \n",
       "2014-12-28 12:00:00  TaiESM1  \n",
       "2014-12-29 12:00:00  TaiESM1  \n",
       "2014-12-30 12:00:00  TaiESM1  \n",
       "2014-12-31 12:00:00  TaiESM1  "
      ]
     },
     "execution_count": 9,
     "metadata": {},
     "output_type": "execute_result"
    }
   ],
   "source": [
    "df.tail()"
   ]
  },
  {
   "cell_type": "code",
   "execution_count": 10,
   "id": "ec8a265c-db71-4591-8f5a-a1da5fbee5fb",
   "metadata": {},
   "outputs": [
    {
     "data": {
      "text/html": [
       "<div>\n",
       "<style scoped>\n",
       "    .dataframe tbody tr th:only-of-type {\n",
       "        vertical-align: middle;\n",
       "    }\n",
       "\n",
       "    .dataframe tbody tr th {\n",
       "        vertical-align: top;\n",
       "    }\n",
       "\n",
       "    .dataframe thead th {\n",
       "        text-align: right;\n",
       "    }\n",
       "</style>\n",
       "<table border=\"1\" class=\"dataframe\">\n",
       "  <thead>\n",
       "    <tr style=\"text-align: right;\">\n",
       "      <th></th>\n",
       "      <th>lat_min</th>\n",
       "      <th>lat_max</th>\n",
       "      <th>lon_min</th>\n",
       "      <th>lon_max</th>\n",
       "      <th>rain (mm/day)</th>\n",
       "      <th>model</th>\n",
       "    </tr>\n",
       "    <tr>\n",
       "      <th>time</th>\n",
       "      <th></th>\n",
       "      <th></th>\n",
       "      <th></th>\n",
       "      <th></th>\n",
       "      <th></th>\n",
       "      <th></th>\n",
       "    </tr>\n",
       "  </thead>\n",
       "  <tbody>\n",
       "    <tr>\n",
       "      <th>1889-01-01 12:00:00</th>\n",
       "      <td>-36.25</td>\n",
       "      <td>-35.0</td>\n",
       "      <td>140.625</td>\n",
       "      <td>142.5</td>\n",
       "      <td>3.293256e-13</td>\n",
       "      <td>ACCESS-CM2</td>\n",
       "    </tr>\n",
       "    <tr>\n",
       "      <th>1889-01-02 12:00:00</th>\n",
       "      <td>-36.25</td>\n",
       "      <td>-35.0</td>\n",
       "      <td>140.625</td>\n",
       "      <td>142.5</td>\n",
       "      <td>0.000000e+00</td>\n",
       "      <td>ACCESS-CM2</td>\n",
       "    </tr>\n",
       "    <tr>\n",
       "      <th>1889-01-03 12:00:00</th>\n",
       "      <td>-36.25</td>\n",
       "      <td>-35.0</td>\n",
       "      <td>140.625</td>\n",
       "      <td>142.5</td>\n",
       "      <td>0.000000e+00</td>\n",
       "      <td>ACCESS-CM2</td>\n",
       "    </tr>\n",
       "    <tr>\n",
       "      <th>1889-01-04 12:00:00</th>\n",
       "      <td>-36.25</td>\n",
       "      <td>-35.0</td>\n",
       "      <td>140.625</td>\n",
       "      <td>142.5</td>\n",
       "      <td>0.000000e+00</td>\n",
       "      <td>ACCESS-CM2</td>\n",
       "    </tr>\n",
       "    <tr>\n",
       "      <th>1889-01-05 12:00:00</th>\n",
       "      <td>-36.25</td>\n",
       "      <td>-35.0</td>\n",
       "      <td>140.625</td>\n",
       "      <td>142.5</td>\n",
       "      <td>1.047658e-02</td>\n",
       "      <td>ACCESS-CM2</td>\n",
       "    </tr>\n",
       "  </tbody>\n",
       "</table>\n",
       "</div>"
      ],
      "text/plain": [
       "                     lat_min  lat_max  lon_min  lon_max  rain (mm/day)  \\\n",
       "time                                                                     \n",
       "1889-01-01 12:00:00   -36.25    -35.0  140.625    142.5   3.293256e-13   \n",
       "1889-01-02 12:00:00   -36.25    -35.0  140.625    142.5   0.000000e+00   \n",
       "1889-01-03 12:00:00   -36.25    -35.0  140.625    142.5   0.000000e+00   \n",
       "1889-01-04 12:00:00   -36.25    -35.0  140.625    142.5   0.000000e+00   \n",
       "1889-01-05 12:00:00   -36.25    -35.0  140.625    142.5   1.047658e-02   \n",
       "\n",
       "                          model  \n",
       "time                             \n",
       "1889-01-01 12:00:00  ACCESS-CM2  \n",
       "1889-01-02 12:00:00  ACCESS-CM2  \n",
       "1889-01-03 12:00:00  ACCESS-CM2  \n",
       "1889-01-04 12:00:00  ACCESS-CM2  \n",
       "1889-01-05 12:00:00  ACCESS-CM2  "
      ]
     },
     "execution_count": 10,
     "metadata": {},
     "output_type": "execute_result"
    }
   ],
   "source": [
    "df.head()"
   ]
  },
  {
   "cell_type": "code",
   "execution_count": 11,
   "id": "322f88e0-d814-42ef-b5ab-53ea4b781082",
   "metadata": {},
   "outputs": [
    {
     "name": "stdout",
     "output_type": "stream",
     "text": [
      "<class 'pandas.core.frame.DataFrame'>\n",
      "Index: 62467843 entries, 1889-01-01 12:00:00 to 2014-12-31 12:00:00\n",
      "Data columns (total 6 columns):\n",
      " #   Column         Dtype  \n",
      "---  ------         -----  \n",
      " 0   lat_min        float64\n",
      " 1   lat_max        float64\n",
      " 2   lon_min        float64\n",
      " 3   lon_max        float64\n",
      " 4   rain (mm/day)  float64\n",
      " 5   model          object \n",
      "dtypes: float64(5), object(1)\n",
      "memory usage: 3.3+ GB\n",
      "Memory usage with float64: 3498.20 MB\n"
     ]
    }
   ],
   "source": [
    "# Checking the dtype of each column\n",
    "df.info()\n",
    "print(f\"Memory usage with float64: {df.memory_usage().sum() / 1e6:.2f} MB\")"
   ]
  },
  {
   "cell_type": "markdown",
   "id": "30700a71-aaa8-4b50-bb93-aa156494045b",
   "metadata": {},
   "source": [
    "# Changing the dtype"
   ]
  },
  {
   "cell_type": "code",
   "execution_count": 12,
   "id": "288722be-11de-47eb-b6de-c2d8ec41d96e",
   "metadata": {},
   "outputs": [],
   "source": [
    "# Changing the dtype of numerical columns from float64 to float32 \n",
    "column_name = list(df.select_dtypes(include=['float64']))\n",
    "for name in column_name:\n",
    "    df[name] = df[name].astype('float32')"
   ]
  },
  {
   "cell_type": "code",
   "execution_count": 13,
   "id": "195179e3-09c5-44f2-b1e7-1e6e4f97d8df",
   "metadata": {},
   "outputs": [
    {
     "name": "stdout",
     "output_type": "stream",
     "text": [
      "<class 'pandas.core.frame.DataFrame'>\n",
      "Index: 62467843 entries, 1889-01-01 12:00:00 to 2014-12-31 12:00:00\n",
      "Data columns (total 6 columns):\n",
      " #   Column         Dtype  \n",
      "---  ------         -----  \n",
      " 0   lat_min        float32\n",
      " 1   lat_max        float32\n",
      " 2   lon_min        float32\n",
      " 3   lon_max        float32\n",
      " 4   rain (mm/day)  float32\n",
      " 5   model          object \n",
      "dtypes: float32(5), object(1)\n",
      "memory usage: 2.1+ GB\n",
      "Memory usage with float32: 2248.84 MB\n"
     ]
    }
   ],
   "source": [
    "df.info()\n",
    "print(f\"Memory usage with float32: {df.memory_usage().sum() / 1e6:.2f} MB\")"
   ]
  },
  {
   "cell_type": "markdown",
   "id": "164975e7-5ab4-4416-9dcc-91cf4b7f616c",
   "metadata": {},
   "source": [
    "* Originally the numerical columns had float 64 as the data type , which consumed 3.3+GB of memory.On changing the datatype to float32, the memory has been significantly reduced to 2.1+GB"
   ]
  },
  {
   "cell_type": "markdown",
   "id": "adfce178-7f7c-4959-ae3d-aba66b63292f",
   "metadata": {},
   "source": [
    "# Load the combined CSV to memory\n",
    "## Load all columns"
   ]
  },
  {
   "cell_type": "code",
   "execution_count": 14,
   "id": "52a58887-e38c-4c13-832d-fd41f588f1d7",
   "metadata": {},
   "outputs": [
    {
     "name": "stdout",
     "output_type": "stream",
     "text": [
      "MPI-ESM1-2-HR       5154240\n",
      "TaiESM1             3541230\n",
      "NorESM2-MM          3541230\n",
      "CMCC-CM2-HR4        3541230\n",
      "CMCC-CM2-SR5        3541230\n",
      "CMCC-ESM2           3541230\n",
      "SAM0-UNICON         3541153\n",
      "FGOALS-f3-L         3219300\n",
      "GFDL-CM4            3219300\n",
      "GFDL-ESM4           3219300\n",
      "EC-Earth3-Veg-LR    3037320\n",
      "MRI-ESM2-0          3037320\n",
      "BCC-CSM2-MR         3035340\n",
      "MIROC6              2070900\n",
      "ACCESS-CM2          1932840\n",
      "ACCESS-ESM1-5       1610700\n",
      "INM-CM5-0           1609650\n",
      "INM-CM4-8           1609650\n",
      "KIOST-ESM           1287720\n",
      "FGOALS-g3           1287720\n",
      "MPI-ESM1-2-LR        966420\n",
      "NESM3                966420\n",
      "AWI-ESM-1-1-LR       966420\n",
      "MPI-ESM-1-2-HAM      966420\n",
      "NorESM2-LM           919800\n",
      "BCC-ESM1             551880\n",
      "CanESM5              551880\n",
      "Name: model, dtype: int64\n",
      "CPU times: total: 1min 20s\n",
      "Wall time: 1min 21s\n"
     ]
    }
   ],
   "source": [
    "%%time\n",
    "df1 = pd.read_csv(\"combined_data.csv\")\n",
    "print(df1[\"model\"].value_counts())"
   ]
  },
  {
   "cell_type": "code",
   "execution_count": 15,
   "id": "eb706e3c-4822-4ae3-9bed-036fcf602d6a",
   "metadata": {},
   "outputs": [
    {
     "data": {
      "text/plain": [
       "(62467843, 7)"
      ]
     },
     "execution_count": 15,
     "metadata": {},
     "output_type": "execute_result"
    }
   ],
   "source": [
    "df1.shape"
   ]
  },
  {
   "cell_type": "markdown",
   "id": "15550a52-212b-4af0-afa5-b2a4ae5e2216",
   "metadata": {},
   "source": [
    "## Loading it in Chunks"
   ]
  },
  {
   "cell_type": "code",
   "execution_count": 16,
   "id": "f7d51f54-4643-43ff-bfdc-a8cd1576f695",
   "metadata": {},
   "outputs": [
    {
     "name": "stdout",
     "output_type": "stream",
     "text": [
      "ACCESS-CM2          1932840\n",
      "ACCESS-ESM1-5       1610700\n",
      "AWI-ESM-1-1-LR       966420\n",
      "BCC-CSM2-MR         3035340\n",
      "BCC-ESM1             551880\n",
      "CMCC-CM2-HR4        3541230\n",
      "CMCC-CM2-SR5        3541230\n",
      "CMCC-ESM2           3541230\n",
      "CanESM5              551880\n",
      "EC-Earth3-Veg-LR    3037320\n",
      "FGOALS-f3-L         3219300\n",
      "FGOALS-g3           1287720\n",
      "GFDL-CM4            3219300\n",
      "GFDL-ESM4           3219300\n",
      "INM-CM4-8           1609650\n",
      "INM-CM5-0           1609650\n",
      "KIOST-ESM           1287720\n",
      "MIROC6              2070900\n",
      "MPI-ESM-1-2-HAM      966420\n",
      "MPI-ESM1-2-HR       5154240\n",
      "MPI-ESM1-2-LR        966420\n",
      "MRI-ESM2-0          3037320\n",
      "NESM3                966420\n",
      "NorESM2-LM           919800\n",
      "NorESM2-MM          3541230\n",
      "SAM0-UNICON         3541153\n",
      "TaiESM1             3541230\n",
      "dtype: int32\n",
      "CPU times: total: 1min 8s\n",
      "Wall time: 1min 9s\n"
     ]
    }
   ],
   "source": [
    "%%time\n",
    "counts = pd.Series(dtype=int)\n",
    "for chunk in pd.read_csv(\"combined_data.csv\", chunksize=10_000_000):\n",
    "    counts = counts.add(chunk[\"model\"].value_counts(), fill_value=0)\n",
    "print(counts.astype(int))"
   ]
  },
  {
   "cell_type": "code",
   "execution_count": 17,
   "id": "e813f19c-43f5-410e-b24c-c339fddd70ff",
   "metadata": {},
   "outputs": [
    {
     "name": "stdout",
     "output_type": "stream",
     "text": [
      "-3.807372927370557e-12\n",
      "CPU times: total: 312 ms\n",
      "Wall time: 318 ms\n"
     ]
    }
   ],
   "source": [
    "%%time\n",
    "print(df1['rain (mm/day)'].min())"
   ]
  },
  {
   "cell_type": "code",
   "execution_count": 18,
   "id": "81ce9f3c-680d-43b1-a706-a1e097959ec2",
   "metadata": {},
   "outputs": [
    {
     "name": "stdout",
     "output_type": "stream",
     "text": [
      "CPU times: total: 12.4 s\n",
      "Wall time: 12.6 s\n"
     ]
    },
    {
     "data": {
      "text/html": [
       "<div>\n",
       "<style scoped>\n",
       "    .dataframe tbody tr th:only-of-type {\n",
       "        vertical-align: middle;\n",
       "    }\n",
       "\n",
       "    .dataframe tbody tr th {\n",
       "        vertical-align: top;\n",
       "    }\n",
       "\n",
       "    .dataframe thead th {\n",
       "        text-align: right;\n",
       "    }\n",
       "</style>\n",
       "<table border=\"1\" class=\"dataframe\">\n",
       "  <thead>\n",
       "    <tr style=\"text-align: right;\">\n",
       "      <th></th>\n",
       "      <th>lat_min</th>\n",
       "      <th>lat_max</th>\n",
       "      <th>lon_min</th>\n",
       "      <th>lon_max</th>\n",
       "      <th>rain (mm/day)</th>\n",
       "    </tr>\n",
       "  </thead>\n",
       "  <tbody>\n",
       "    <tr>\n",
       "      <th>count</th>\n",
       "      <td>5.924854e+07</td>\n",
       "      <td>6.246784e+07</td>\n",
       "      <td>5.924854e+07</td>\n",
       "      <td>6.246784e+07</td>\n",
       "      <td>5.924854e+07</td>\n",
       "    </tr>\n",
       "    <tr>\n",
       "      <th>mean</th>\n",
       "      <td>-3.310482e+01</td>\n",
       "      <td>-3.197757e+01</td>\n",
       "      <td>1.469059e+02</td>\n",
       "      <td>1.482150e+02</td>\n",
       "      <td>1.901170e+00</td>\n",
       "    </tr>\n",
       "    <tr>\n",
       "      <th>std</th>\n",
       "      <td>1.963549e+00</td>\n",
       "      <td>1.992067e+00</td>\n",
       "      <td>3.793784e+00</td>\n",
       "      <td>3.809994e+00</td>\n",
       "      <td>5.585735e+00</td>\n",
       "    </tr>\n",
       "    <tr>\n",
       "      <th>min</th>\n",
       "      <td>-3.646739e+01</td>\n",
       "      <td>-3.600000e+01</td>\n",
       "      <td>1.406250e+02</td>\n",
       "      <td>1.412500e+02</td>\n",
       "      <td>-3.807373e-12</td>\n",
       "    </tr>\n",
       "    <tr>\n",
       "      <th>25%</th>\n",
       "      <td>-3.486911e+01</td>\n",
       "      <td>-3.366221e+01</td>\n",
       "      <td>1.434375e+02</td>\n",
       "      <td>1.450000e+02</td>\n",
       "      <td>3.838413e-06</td>\n",
       "    </tr>\n",
       "    <tr>\n",
       "      <th>50%</th>\n",
       "      <td>-3.300000e+01</td>\n",
       "      <td>-3.204188e+01</td>\n",
       "      <td>1.468750e+02</td>\n",
       "      <td>1.481250e+02</td>\n",
       "      <td>6.154947e-02</td>\n",
       "    </tr>\n",
       "    <tr>\n",
       "      <th>75%</th>\n",
       "      <td>-3.140170e+01</td>\n",
       "      <td>-3.015707e+01</td>\n",
       "      <td>1.501875e+02</td>\n",
       "      <td>1.513125e+02</td>\n",
       "      <td>1.020918e+00</td>\n",
       "    </tr>\n",
       "    <tr>\n",
       "      <th>max</th>\n",
       "      <td>-2.990000e+01</td>\n",
       "      <td>-2.790606e+01</td>\n",
       "      <td>1.537500e+02</td>\n",
       "      <td>1.556250e+02</td>\n",
       "      <td>4.329395e+02</td>\n",
       "    </tr>\n",
       "  </tbody>\n",
       "</table>\n",
       "</div>"
      ],
      "text/plain": [
       "            lat_min       lat_max       lon_min       lon_max  rain (mm/day)\n",
       "count  5.924854e+07  6.246784e+07  5.924854e+07  6.246784e+07   5.924854e+07\n",
       "mean  -3.310482e+01 -3.197757e+01  1.469059e+02  1.482150e+02   1.901170e+00\n",
       "std    1.963549e+00  1.992067e+00  3.793784e+00  3.809994e+00   5.585735e+00\n",
       "min   -3.646739e+01 -3.600000e+01  1.406250e+02  1.412500e+02  -3.807373e-12\n",
       "25%   -3.486911e+01 -3.366221e+01  1.434375e+02  1.450000e+02   3.838413e-06\n",
       "50%   -3.300000e+01 -3.204188e+01  1.468750e+02  1.481250e+02   6.154947e-02\n",
       "75%   -3.140170e+01 -3.015707e+01  1.501875e+02  1.513125e+02   1.020918e+00\n",
       "max   -2.990000e+01 -2.790606e+01  1.537500e+02  1.556250e+02   4.329395e+02"
      ]
     },
     "execution_count": 18,
     "metadata": {},
     "output_type": "execute_result"
    }
   ],
   "source": [
    "%%time\n",
    "df1.describe()"
   ]
  },
  {
   "cell_type": "code",
   "execution_count": 19,
   "id": "9ff0dc0e-3cbe-423d-8856-8535ed09210f",
   "metadata": {},
   "outputs": [
    {
     "name": "stdout",
     "output_type": "stream",
     "text": [
      "CPU times: total: 12.7 s\n",
      "Wall time: 12.7 s\n"
     ]
    },
    {
     "data": {
      "text/plain": [
       "time                   0\n",
       "lat_min          3219300\n",
       "lat_max                0\n",
       "lon_min          3219300\n",
       "lon_max                0\n",
       "rain (mm/day)    3219300\n",
       "model                  0\n",
       "dtype: int64"
      ]
     },
     "execution_count": 19,
     "metadata": {},
     "output_type": "execute_result"
    }
   ],
   "source": [
    "%%time\n",
    "df1.isnull().sum()"
   ]
  },
  {
   "cell_type": "markdown",
   "id": "3a7679c0-9649-44ca-88ea-6c33e433a195",
   "metadata": {},
   "source": [
    "## Loading only those columns that are needed"
   ]
  },
  {
   "cell_type": "code",
   "execution_count": 20,
   "id": "7322931d-ac54-41dc-953e-009e279b6db5",
   "metadata": {},
   "outputs": [
    {
     "name": "stdout",
     "output_type": "stream",
     "text": [
      "MPI-ESM1-2-HR       5154240\n",
      "TaiESM1             3541230\n",
      "NorESM2-MM          3541230\n",
      "CMCC-CM2-HR4        3541230\n",
      "CMCC-CM2-SR5        3541230\n",
      "CMCC-ESM2           3541230\n",
      "SAM0-UNICON         3541153\n",
      "FGOALS-f3-L         3219300\n",
      "GFDL-CM4            3219300\n",
      "GFDL-ESM4           3219300\n",
      "EC-Earth3-Veg-LR    3037320\n",
      "MRI-ESM2-0          3037320\n",
      "BCC-CSM2-MR         3035340\n",
      "MIROC6              2070900\n",
      "ACCESS-CM2          1932840\n",
      "ACCESS-ESM1-5       1610700\n",
      "INM-CM5-0           1609650\n",
      "INM-CM4-8           1609650\n",
      "KIOST-ESM           1287720\n",
      "FGOALS-g3           1287720\n",
      "MPI-ESM1-2-LR        966420\n",
      "NESM3                966420\n",
      "AWI-ESM-1-1-LR       966420\n",
      "MPI-ESM-1-2-HAM      966420\n",
      "NorESM2-LM           919800\n",
      "BCC-ESM1             551880\n",
      "CanESM5              551880\n",
      "Name: model, dtype: int64\n",
      "CPU times: total: 45.7 s\n",
      "Wall time: 45.8 s\n"
     ]
    }
   ],
   "source": [
    "%%time\n",
    "use_cols = ['rain (mm/day)', 'model']\n",
    "df3 = pd.read_csv(\"combined_data.csv\", usecols = use_cols)\n",
    "\n",
    "print(df3[\"model\"].value_counts())"
   ]
  },
  {
   "cell_type": "code",
   "execution_count": 21,
   "id": "ac2974ae-b988-40b8-aec4-aa8a8ee991f6",
   "metadata": {},
   "outputs": [
    {
     "name": "stdout",
     "output_type": "stream",
     "text": [
      "CPU times: total: 3.84 s\n",
      "Wall time: 3.86 s\n"
     ]
    },
    {
     "data": {
      "text/html": [
       "<div>\n",
       "<style scoped>\n",
       "    .dataframe tbody tr th:only-of-type {\n",
       "        vertical-align: middle;\n",
       "    }\n",
       "\n",
       "    .dataframe tbody tr th {\n",
       "        vertical-align: top;\n",
       "    }\n",
       "\n",
       "    .dataframe thead th {\n",
       "        text-align: right;\n",
       "    }\n",
       "</style>\n",
       "<table border=\"1\" class=\"dataframe\">\n",
       "  <thead>\n",
       "    <tr style=\"text-align: right;\">\n",
       "      <th></th>\n",
       "      <th>rain (mm/day)</th>\n",
       "    </tr>\n",
       "    <tr>\n",
       "      <th>model</th>\n",
       "      <th></th>\n",
       "    </tr>\n",
       "  </thead>\n",
       "  <tbody>\n",
       "    <tr>\n",
       "      <th>ACCESS-CM2</th>\n",
       "      <td>1.787025</td>\n",
       "    </tr>\n",
       "    <tr>\n",
       "      <th>ACCESS-ESM1-5</th>\n",
       "      <td>2.217501</td>\n",
       "    </tr>\n",
       "    <tr>\n",
       "      <th>AWI-ESM-1-1-LR</th>\n",
       "      <td>2.026071</td>\n",
       "    </tr>\n",
       "    <tr>\n",
       "      <th>BCC-CSM2-MR</th>\n",
       "      <td>1.951832</td>\n",
       "    </tr>\n",
       "    <tr>\n",
       "      <th>BCC-ESM1</th>\n",
       "      <td>1.811032</td>\n",
       "    </tr>\n",
       "    <tr>\n",
       "      <th>CMCC-CM2-HR4</th>\n",
       "      <td>2.279350</td>\n",
       "    </tr>\n",
       "    <tr>\n",
       "      <th>CMCC-CM2-SR5</th>\n",
       "      <td>2.383389</td>\n",
       "    </tr>\n",
       "    <tr>\n",
       "      <th>CMCC-ESM2</th>\n",
       "      <td>2.266125</td>\n",
       "    </tr>\n",
       "    <tr>\n",
       "      <th>CanESM5</th>\n",
       "      <td>1.894328</td>\n",
       "    </tr>\n",
       "    <tr>\n",
       "      <th>EC-Earth3-Veg-LR</th>\n",
       "      <td>1.516258</td>\n",
       "    </tr>\n",
       "    <tr>\n",
       "      <th>FGOALS-f3-L</th>\n",
       "      <td>1.627373</td>\n",
       "    </tr>\n",
       "    <tr>\n",
       "      <th>FGOALS-g3</th>\n",
       "      <td>2.156419</td>\n",
       "    </tr>\n",
       "    <tr>\n",
       "      <th>GFDL-CM4</th>\n",
       "      <td>1.414485</td>\n",
       "    </tr>\n",
       "    <tr>\n",
       "      <th>GFDL-ESM4</th>\n",
       "      <td>NaN</td>\n",
       "    </tr>\n",
       "    <tr>\n",
       "      <th>INM-CM4-8</th>\n",
       "      <td>2.811463</td>\n",
       "    </tr>\n",
       "    <tr>\n",
       "      <th>INM-CM5-0</th>\n",
       "      <td>2.669012</td>\n",
       "    </tr>\n",
       "    <tr>\n",
       "      <th>KIOST-ESM</th>\n",
       "      <td>1.102353</td>\n",
       "    </tr>\n",
       "    <tr>\n",
       "      <th>MIROC6</th>\n",
       "      <td>2.301662</td>\n",
       "    </tr>\n",
       "    <tr>\n",
       "      <th>MPI-ESM-1-2-HAM</th>\n",
       "      <td>1.610720</td>\n",
       "    </tr>\n",
       "    <tr>\n",
       "      <th>MPI-ESM1-2-HR</th>\n",
       "      <td>0.995569</td>\n",
       "    </tr>\n",
       "    <tr>\n",
       "      <th>MPI-ESM1-2-LR</th>\n",
       "      <td>1.074308</td>\n",
       "    </tr>\n",
       "    <tr>\n",
       "      <th>MRI-ESM2-0</th>\n",
       "      <td>1.368030</td>\n",
       "    </tr>\n",
       "    <tr>\n",
       "      <th>NESM3</th>\n",
       "      <td>1.621936</td>\n",
       "    </tr>\n",
       "    <tr>\n",
       "      <th>NorESM2-LM</th>\n",
       "      <td>2.230799</td>\n",
       "    </tr>\n",
       "    <tr>\n",
       "      <th>NorESM2-MM</th>\n",
       "      <td>2.232966</td>\n",
       "    </tr>\n",
       "    <tr>\n",
       "      <th>SAM0-UNICON</th>\n",
       "      <td>2.169676</td>\n",
       "    </tr>\n",
       "    <tr>\n",
       "      <th>TaiESM1</th>\n",
       "      <td>2.224576</td>\n",
       "    </tr>\n",
       "  </tbody>\n",
       "</table>\n",
       "</div>"
      ],
      "text/plain": [
       "                  rain (mm/day)\n",
       "model                          \n",
       "ACCESS-CM2             1.787025\n",
       "ACCESS-ESM1-5          2.217501\n",
       "AWI-ESM-1-1-LR         2.026071\n",
       "BCC-CSM2-MR            1.951832\n",
       "BCC-ESM1               1.811032\n",
       "CMCC-CM2-HR4           2.279350\n",
       "CMCC-CM2-SR5           2.383389\n",
       "CMCC-ESM2              2.266125\n",
       "CanESM5                1.894328\n",
       "EC-Earth3-Veg-LR       1.516258\n",
       "FGOALS-f3-L            1.627373\n",
       "FGOALS-g3              2.156419\n",
       "GFDL-CM4               1.414485\n",
       "GFDL-ESM4                   NaN\n",
       "INM-CM4-8              2.811463\n",
       "INM-CM5-0              2.669012\n",
       "KIOST-ESM              1.102353\n",
       "MIROC6                 2.301662\n",
       "MPI-ESM-1-2-HAM        1.610720\n",
       "MPI-ESM1-2-HR          0.995569\n",
       "MPI-ESM1-2-LR          1.074308\n",
       "MRI-ESM2-0             1.368030\n",
       "NESM3                  1.621936\n",
       "NorESM2-LM             2.230799\n",
       "NorESM2-MM             2.232966\n",
       "SAM0-UNICON            2.169676\n",
       "TaiESM1                2.224576"
      ]
     },
     "execution_count": 21,
     "metadata": {},
     "output_type": "execute_result"
    }
   ],
   "source": [
    "%%time\n",
    "df3.groupby('model').mean()"
   ]
  },
  {
   "cell_type": "markdown",
   "id": "8b981622-dfd6-4cfc-9dc3-85e53ea62345",
   "metadata": {},
   "source": [
    "* The time taken to load all the columns acroos the systems was on an average 1m 20s although Yair's machine took a lot of time 13min 52s\n",
    "* When loaded in chunks, we didnot see a massive reduction in time in our machines, it just improved by 10s although the time taken by Yair's system got reduced by 1/3rd.\n",
    "* When we treid loading only those columns which we needed, we saw the significant improvement. Our systems hardly took 48s on an average to load the combined csv even Yair's system took comparatively lesser time than previous methods of loading.\n",
    "* As discussed above, the huge time difference between our systems and Yair's system could be due to the processor and smaller RAM.\n",
    "* On changing the data type from float64 to float32, although we didn't observe any impact on the time, the memory usage reduced nearly by half."
   ]
  },
  {
   "cell_type": "markdown",
   "id": "2a30bd88-3f40-475f-bbe9-16b04f55e1d9",
   "metadata": {},
   "source": [
    "| Team Member | Operating System | RAM | Processor | Is SSD | Time taken(Load All columns) | Time taken(Load in chunks) |Time taken(Load red columns) |\n",
    "|:-----------:|:----------------:|:---:|:---------:|:---:|:---:|:---:|:---:|\n",
    "| Affrin Sultana    |   Windows 10 Education               | 16GB    |    AMD Ryzen 9 5000Series       |   Yes    |     1m29s      | 1m8s | 48s\n",
    "| Helin Wang  | Windows 10 Education | 16GB | Intel(R) Core(TM) i5-8250U CPU @ 1.60GHz 1.80 GHz  |  Yes   | 1m25s | 1m18s | 48.1s | \n",
    "| Manju Abhinandana Kumar    |      MacBook Air (M1, 2020)            |  8 GB   |     Apple M1      |   Yes     |     1min 12s       |1min 8s | 46.8 s\n",
    "| Yair Guterman    |    macOS Big Sur    |  8 GB   |    1.8 GHz Dual-Core Intel Core i5       |    Yes    |         13min 52s   | 4min 51s  |3min 1s |"
   ]
  },
  {
   "cell_type": "markdown",
   "id": "3e8fef49-e2a5-43f9-bc08-96c325e9b4d8",
   "metadata": {},
   "source": [
    "# Perform a simple EDA in R"
   ]
  },
  {
   "cell_type": "markdown",
   "id": "0b20c0fc-09fa-403a-bb23-8a3a9e39216e",
   "metadata": {},
   "source": [
    "### 1. Transfer the dataframe from python to R"
   ]
  },
  {
   "cell_type": "code",
   "execution_count": 22,
   "id": "55638aa8-75ed-4046-9fc8-4de46a7910c3",
   "metadata": {},
   "outputs": [
    {
     "name": "stderr",
     "output_type": "stream",
     "text": [
      "C:\\Users\\17783\\miniconda3\\envs\\525_2022\\lib\\site-packages\\rpy2\\robjects\\packages.py:366: UserWarning: The symbol 'quartz' is not in this R namespace/package.\n",
      "  warnings.warn(\n"
     ]
    }
   ],
   "source": [
    "%load_ext rpy2.ipython"
   ]
  },
  {
   "cell_type": "code",
   "execution_count": 23,
   "id": "e1fec8a0-3b07-42ea-82e0-e401025f73c2",
   "metadata": {},
   "outputs": [],
   "source": [
    "import pyarrow.dataset as ds\n",
    "import pyarrow as pa\n",
    "import pandas as pd\n",
    "import pyarrow \n",
    "from pyarrow import csv\n",
    "import rpy2_arrow.pyarrow_rarrow as pyra"
   ]
  },
  {
   "cell_type": "code",
   "execution_count": 24,
   "id": "d11be185-c681-46e3-9baf-201c6285eae6",
   "metadata": {},
   "outputs": [],
   "source": [
    "%%R\n",
    "suppressMessages(library(dplyr, warn.conflicts = FALSE))\n",
    "suppressMessages(library(arrow, warn.conflicts = FALSE))\n",
    "suppressMessages(library(ggplot2, warn.conflicts = FALSE))"
   ]
  },
  {
   "cell_type": "markdown",
   "id": "1eabd3da-c7c7-436a-bac7-0326480088a3",
   "metadata": {},
   "source": [
    "**Feather**"
   ]
  },
  {
   "cell_type": "code",
   "execution_count": 25,
   "id": "3c89c929-3048-4720-8275-97edd4967994",
   "metadata": {},
   "outputs": [
    {
     "name": "stdout",
     "output_type": "stream",
     "text": [
      "CPU times: total: 1min 34s\n",
      "Wall time: 1min 38s\n"
     ]
    }
   ],
   "source": [
    "%%time\n",
    "df = pd.read_csv(\"combined_data.csv\")\n",
    "df.to_feather(\"combined_data.feather\")"
   ]
  },
  {
   "cell_type": "code",
   "execution_count": 26,
   "id": "4bd85b59-a54e-4e8f-a794-ceb9e3d5daf7",
   "metadata": {},
   "outputs": [
    {
     "name": "stdout",
     "output_type": "stream",
     "text": [
      "1.2G\tcombined_data.feather\n"
     ]
    }
   ],
   "source": [
    "%%sh\n",
    "\n",
    "# check the feather file size\n",
    "du -sh combined_data.feather"
   ]
  },
  {
   "cell_type": "code",
   "execution_count": 27,
   "id": "cc5e01f5-a68c-4047-b45d-8433201ce4f2",
   "metadata": {},
   "outputs": [
    {
     "name": "stdout",
     "output_type": "stream",
     "text": [
      "CPU times: total: 156 ms\n",
      "Wall time: 217 ms\n"
     ]
    }
   ],
   "source": [
    "%%time\n",
    "%%R\n",
    "\n",
    "# Read feather file\n",
    "df_feather <- open_dataset(\"combined_data.feather\", format=\"feather\")"
   ]
  },
  {
   "cell_type": "code",
   "execution_count": 28,
   "id": "44f21d00-ff18-4d9e-9da8-53b16172f7ba",
   "metadata": {},
   "outputs": [
    {
     "name": "stdout",
     "output_type": "stream",
     "text": [
      "\u001b[38;5;246m# A tibble: 62,467,843 x 7\u001b[39m\n",
      "   time                lat_min lat_max lon_min lon_max `rain (mm/day)` model    \n",
      "   \u001b[3m\u001b[38;5;246m<chr>\u001b[39m\u001b[23m                 \u001b[3m\u001b[38;5;246m<dbl>\u001b[39m\u001b[23m   \u001b[3m\u001b[38;5;246m<dbl>\u001b[39m\u001b[23m   \u001b[3m\u001b[38;5;246m<dbl>\u001b[39m\u001b[23m   \u001b[3m\u001b[38;5;246m<dbl>\u001b[39m\u001b[23m           \u001b[3m\u001b[38;5;246m<dbl>\u001b[39m\u001b[23m \u001b[3m\u001b[38;5;246m<chr>\u001b[39m\u001b[23m    \n",
      "\u001b[38;5;250m 1\u001b[39m 1889-01-01 12:00:00   -\u001b[31m36\u001b[39m\u001b[31m.\u001b[39m\u001b[31m2\u001b[39m     -\u001b[31m35\u001b[39m    141.    142.        3.29\u001b[38;5;246me\u001b[39m\u001b[31m-13\u001b[39m ACCESS-C~\n",
      "\u001b[38;5;250m 2\u001b[39m 1889-01-02 12:00:00   -\u001b[31m36\u001b[39m\u001b[31m.\u001b[39m\u001b[31m2\u001b[39m     -\u001b[31m35\u001b[39m    141.    142.        0   \u001b[38;5;246m \u001b[39m    ACCESS-C~\n",
      "\u001b[38;5;250m 3\u001b[39m 1889-01-03 12:00:00   -\u001b[31m36\u001b[39m\u001b[31m.\u001b[39m\u001b[31m2\u001b[39m     -\u001b[31m35\u001b[39m    141.    142.        0   \u001b[38;5;246m \u001b[39m    ACCESS-C~\n",
      "\u001b[38;5;250m 4\u001b[39m 1889-01-04 12:00:00   -\u001b[31m36\u001b[39m\u001b[31m.\u001b[39m\u001b[31m2\u001b[39m     -\u001b[31m35\u001b[39m    141.    142.        0   \u001b[38;5;246m \u001b[39m    ACCESS-C~\n",
      "\u001b[38;5;250m 5\u001b[39m 1889-01-05 12:00:00   -\u001b[31m36\u001b[39m\u001b[31m.\u001b[39m\u001b[31m2\u001b[39m     -\u001b[31m35\u001b[39m    141.    142.        1.05\u001b[38;5;246me\u001b[39m\u001b[31m- 2\u001b[39m ACCESS-C~\n",
      "\u001b[38;5;250m 6\u001b[39m 1889-01-06 12:00:00   -\u001b[31m36\u001b[39m\u001b[31m.\u001b[39m\u001b[31m2\u001b[39m     -\u001b[31m35\u001b[39m    141.    142.        3.29\u001b[38;5;246me\u001b[39m\u001b[31m- 2\u001b[39m ACCESS-C~\n",
      "\u001b[38;5;250m 7\u001b[39m 1889-01-07 12:00:00   -\u001b[31m36\u001b[39m\u001b[31m.\u001b[39m\u001b[31m2\u001b[39m     -\u001b[31m35\u001b[39m    141.    142.        8.91\u001b[38;5;246me\u001b[39m\u001b[31m- 2\u001b[39m ACCESS-C~\n",
      "\u001b[38;5;250m 8\u001b[39m 1889-01-08 12:00:00   -\u001b[31m36\u001b[39m\u001b[31m.\u001b[39m\u001b[31m2\u001b[39m     -\u001b[31m35\u001b[39m    141.    142.        3.16\u001b[38;5;246me\u001b[39m\u001b[31m- 2\u001b[39m ACCESS-C~\n",
      "\u001b[38;5;250m 9\u001b[39m 1889-01-09 12:00:00   -\u001b[31m36\u001b[39m\u001b[31m.\u001b[39m\u001b[31m2\u001b[39m     -\u001b[31m35\u001b[39m    141.    142.        3.11\u001b[38;5;246me\u001b[39m\u001b[31m- 2\u001b[39m ACCESS-C~\n",
      "\u001b[38;5;250m10\u001b[39m 1889-01-10 12:00:00   -\u001b[31m36\u001b[39m\u001b[31m.\u001b[39m\u001b[31m2\u001b[39m     -\u001b[31m35\u001b[39m    141.    142.        3.30\u001b[38;5;246me\u001b[39m\u001b[31m- 2\u001b[39m ACCESS-C~\n",
      "\u001b[38;5;246m# ... with 62,467,833 more rows\u001b[39m\n",
      "CPU times: total: 22.5 s\n",
      "Wall time: 18.2 s\n"
     ]
    }
   ],
   "source": [
    "%%time\n",
    "%%R\n",
    "print(df_feather %>% collect)"
   ]
  },
  {
   "cell_type": "markdown",
   "id": "0c749a9d-1fa5-4dc1-9c34-8cf753ca92e0",
   "metadata": {},
   "source": [
    "**Parquet**"
   ]
  },
  {
   "cell_type": "code",
   "execution_count": 29,
   "id": "99ed82a7-41e9-4181-8e23-94a8c43c8459",
   "metadata": {},
   "outputs": [
    {
     "name": "stdout",
     "output_type": "stream",
     "text": [
      "CPU times: total: 50.5 s\n",
      "Wall time: 51.7 s\n"
     ]
    }
   ],
   "source": [
    "%%time\n",
    "df.to_parquet(\"combined_data.parquet\")"
   ]
  },
  {
   "cell_type": "code",
   "execution_count": 30,
   "id": "abe4d7e4-7b7d-4eac-b9d1-037e55bfc1b7",
   "metadata": {},
   "outputs": [
    {
     "name": "stdout",
     "output_type": "stream",
     "text": [
      "CPU times: total: 109 ms\n",
      "Wall time: 211 ms\n"
     ]
    }
   ],
   "source": [
    "%%time\n",
    "%%R\n",
    "df_pq <- open_dataset(\"combined_data.parquet\", format=\"parquet\")"
   ]
  },
  {
   "cell_type": "code",
   "execution_count": 31,
   "id": "5e1bb8d8-6045-429c-abb6-ad8e7c517e17",
   "metadata": {},
   "outputs": [
    {
     "name": "stdout",
     "output_type": "stream",
     "text": [
      "\u001b[38;5;246m# A tibble: 62,467,843 x 7\u001b[39m\n",
      "   time                lat_min lat_max lon_min lon_max `rain (mm/day)` model    \n",
      "   \u001b[3m\u001b[38;5;246m<chr>\u001b[39m\u001b[23m                 \u001b[3m\u001b[38;5;246m<dbl>\u001b[39m\u001b[23m   \u001b[3m\u001b[38;5;246m<dbl>\u001b[39m\u001b[23m   \u001b[3m\u001b[38;5;246m<dbl>\u001b[39m\u001b[23m   \u001b[3m\u001b[38;5;246m<dbl>\u001b[39m\u001b[23m           \u001b[3m\u001b[38;5;246m<dbl>\u001b[39m\u001b[23m \u001b[3m\u001b[38;5;246m<chr>\u001b[39m\u001b[23m    \n",
      "\u001b[38;5;250m 1\u001b[39m 1889-01-01 12:00:00   -\u001b[31m36\u001b[39m\u001b[31m.\u001b[39m\u001b[31m2\u001b[39m     -\u001b[31m35\u001b[39m    141.    142.        3.29\u001b[38;5;246me\u001b[39m\u001b[31m-13\u001b[39m ACCESS-C~\n",
      "\u001b[38;5;250m 2\u001b[39m 1889-01-02 12:00:00   -\u001b[31m36\u001b[39m\u001b[31m.\u001b[39m\u001b[31m2\u001b[39m     -\u001b[31m35\u001b[39m    141.    142.        0   \u001b[38;5;246m \u001b[39m    ACCESS-C~\n",
      "\u001b[38;5;250m 3\u001b[39m 1889-01-03 12:00:00   -\u001b[31m36\u001b[39m\u001b[31m.\u001b[39m\u001b[31m2\u001b[39m     -\u001b[31m35\u001b[39m    141.    142.        0   \u001b[38;5;246m \u001b[39m    ACCESS-C~\n",
      "\u001b[38;5;250m 4\u001b[39m 1889-01-04 12:00:00   -\u001b[31m36\u001b[39m\u001b[31m.\u001b[39m\u001b[31m2\u001b[39m     -\u001b[31m35\u001b[39m    141.    142.        0   \u001b[38;5;246m \u001b[39m    ACCESS-C~\n",
      "\u001b[38;5;250m 5\u001b[39m 1889-01-05 12:00:00   -\u001b[31m36\u001b[39m\u001b[31m.\u001b[39m\u001b[31m2\u001b[39m     -\u001b[31m35\u001b[39m    141.    142.        1.05\u001b[38;5;246me\u001b[39m\u001b[31m- 2\u001b[39m ACCESS-C~\n",
      "\u001b[38;5;250m 6\u001b[39m 1889-01-06 12:00:00   -\u001b[31m36\u001b[39m\u001b[31m.\u001b[39m\u001b[31m2\u001b[39m     -\u001b[31m35\u001b[39m    141.    142.        3.29\u001b[38;5;246me\u001b[39m\u001b[31m- 2\u001b[39m ACCESS-C~\n",
      "\u001b[38;5;250m 7\u001b[39m 1889-01-07 12:00:00   -\u001b[31m36\u001b[39m\u001b[31m.\u001b[39m\u001b[31m2\u001b[39m     -\u001b[31m35\u001b[39m    141.    142.        8.91\u001b[38;5;246me\u001b[39m\u001b[31m- 2\u001b[39m ACCESS-C~\n",
      "\u001b[38;5;250m 8\u001b[39m 1889-01-08 12:00:00   -\u001b[31m36\u001b[39m\u001b[31m.\u001b[39m\u001b[31m2\u001b[39m     -\u001b[31m35\u001b[39m    141.    142.        3.16\u001b[38;5;246me\u001b[39m\u001b[31m- 2\u001b[39m ACCESS-C~\n",
      "\u001b[38;5;250m 9\u001b[39m 1889-01-09 12:00:00   -\u001b[31m36\u001b[39m\u001b[31m.\u001b[39m\u001b[31m2\u001b[39m     -\u001b[31m35\u001b[39m    141.    142.        3.11\u001b[38;5;246me\u001b[39m\u001b[31m- 2\u001b[39m ACCESS-C~\n",
      "\u001b[38;5;250m10\u001b[39m 1889-01-10 12:00:00   -\u001b[31m36\u001b[39m\u001b[31m.\u001b[39m\u001b[31m2\u001b[39m     -\u001b[31m35\u001b[39m    141.    142.        3.30\u001b[38;5;246me\u001b[39m\u001b[31m- 2\u001b[39m ACCESS-C~\n",
      "\u001b[38;5;246m# ... with 62,467,833 more rows\u001b[39m\n",
      "CPU times: total: 18.9 s\n",
      "Wall time: 19.3 s\n"
     ]
    }
   ],
   "source": [
    "%%time\n",
    "%%R\n",
    "df_pq_final <- df_pq %>% collect\n",
    "print(df_pq_final)"
   ]
  },
  {
   "cell_type": "markdown",
   "id": "80534933-eeb8-49d4-8e1e-79be0e8551d0",
   "metadata": {
    "tags": []
   },
   "source": [
    "**Arrow exchange**"
   ]
  },
  {
   "cell_type": "code",
   "execution_count": 32,
   "id": "89db681a-fbd3-4bfd-b4c6-b6f0103ff8e0",
   "metadata": {
    "tags": []
   },
   "outputs": [
    {
     "name": "stdout",
     "output_type": "stream",
     "text": [
      "CPU times: total: 1min 13s\n",
      "Wall time: 1min 13s\n"
     ]
    }
   ],
   "source": [
    "%%time\n",
    "dataset = ds.dataset(\"combined_data.csv\", format=\"csv\")\n",
    "table = dataset.to_table()\n",
    "r_table = pyra.converter.py2rpy(table)"
   ]
  },
  {
   "cell_type": "code",
   "execution_count": 33,
   "id": "93c662e6-01ea-4f48-9ddd-1cc271f7ca06",
   "metadata": {
    "tags": []
   },
   "outputs": [
    {
     "name": "stdout",
     "output_type": "stream",
     "text": [
      "\u001b[38;5;246m# A tibble: 62,467,843 x 7\u001b[39m\n",
      "   time                lat_min lat_max lon_min lon_max `rain (mm/day)` model    \n",
      "   \u001b[3m\u001b[38;5;246m<dttm>\u001b[39m\u001b[23m                \u001b[3m\u001b[38;5;246m<dbl>\u001b[39m\u001b[23m   \u001b[3m\u001b[38;5;246m<dbl>\u001b[39m\u001b[23m   \u001b[3m\u001b[38;5;246m<dbl>\u001b[39m\u001b[23m   \u001b[3m\u001b[38;5;246m<dbl>\u001b[39m\u001b[23m           \u001b[3m\u001b[38;5;246m<dbl>\u001b[39m\u001b[23m \u001b[3m\u001b[38;5;246m<chr>\u001b[39m\u001b[23m    \n",
      "\u001b[38;5;250m 1\u001b[39m 1889-01-01 \u001b[38;5;246m04:00:00\u001b[39m   -\u001b[31m36\u001b[39m\u001b[31m.\u001b[39m\u001b[31m2\u001b[39m     -\u001b[31m35\u001b[39m    141.    142.        3.29\u001b[38;5;246me\u001b[39m\u001b[31m-13\u001b[39m ACCESS-C~\n",
      "\u001b[38;5;250m 2\u001b[39m 1889-01-02 \u001b[38;5;246m04:00:00\u001b[39m   -\u001b[31m36\u001b[39m\u001b[31m.\u001b[39m\u001b[31m2\u001b[39m     -\u001b[31m35\u001b[39m    141.    142.        0   \u001b[38;5;246m \u001b[39m    ACCESS-C~\n",
      "\u001b[38;5;250m 3\u001b[39m 1889-01-03 \u001b[38;5;246m04:00:00\u001b[39m   -\u001b[31m36\u001b[39m\u001b[31m.\u001b[39m\u001b[31m2\u001b[39m     -\u001b[31m35\u001b[39m    141.    142.        0   \u001b[38;5;246m \u001b[39m    ACCESS-C~\n",
      "\u001b[38;5;250m 4\u001b[39m 1889-01-04 \u001b[38;5;246m04:00:00\u001b[39m   -\u001b[31m36\u001b[39m\u001b[31m.\u001b[39m\u001b[31m2\u001b[39m     -\u001b[31m35\u001b[39m    141.    142.        0   \u001b[38;5;246m \u001b[39m    ACCESS-C~\n",
      "\u001b[38;5;250m 5\u001b[39m 1889-01-05 \u001b[38;5;246m04:00:00\u001b[39m   -\u001b[31m36\u001b[39m\u001b[31m.\u001b[39m\u001b[31m2\u001b[39m     -\u001b[31m35\u001b[39m    141.    142.        1.05\u001b[38;5;246me\u001b[39m\u001b[31m- 2\u001b[39m ACCESS-C~\n",
      "\u001b[38;5;250m 6\u001b[39m 1889-01-06 \u001b[38;5;246m04:00:00\u001b[39m   -\u001b[31m36\u001b[39m\u001b[31m.\u001b[39m\u001b[31m2\u001b[39m     -\u001b[31m35\u001b[39m    141.    142.        3.29\u001b[38;5;246me\u001b[39m\u001b[31m- 2\u001b[39m ACCESS-C~\n",
      "\u001b[38;5;250m 7\u001b[39m 1889-01-07 \u001b[38;5;246m04:00:00\u001b[39m   -\u001b[31m36\u001b[39m\u001b[31m.\u001b[39m\u001b[31m2\u001b[39m     -\u001b[31m35\u001b[39m    141.    142.        8.91\u001b[38;5;246me\u001b[39m\u001b[31m- 2\u001b[39m ACCESS-C~\n",
      "\u001b[38;5;250m 8\u001b[39m 1889-01-08 \u001b[38;5;246m04:00:00\u001b[39m   -\u001b[31m36\u001b[39m\u001b[31m.\u001b[39m\u001b[31m2\u001b[39m     -\u001b[31m35\u001b[39m    141.    142.        3.16\u001b[38;5;246me\u001b[39m\u001b[31m- 2\u001b[39m ACCESS-C~\n",
      "\u001b[38;5;250m 9\u001b[39m 1889-01-09 \u001b[38;5;246m04:00:00\u001b[39m   -\u001b[31m36\u001b[39m\u001b[31m.\u001b[39m\u001b[31m2\u001b[39m     -\u001b[31m35\u001b[39m    141.    142.        3.11\u001b[38;5;246me\u001b[39m\u001b[31m- 2\u001b[39m ACCESS-C~\n",
      "\u001b[38;5;250m10\u001b[39m 1889-01-10 \u001b[38;5;246m04:00:00\u001b[39m   -\u001b[31m36\u001b[39m\u001b[31m.\u001b[39m\u001b[31m2\u001b[39m     -\u001b[31m35\u001b[39m    141.    142.        3.30\u001b[38;5;246me\u001b[39m\u001b[31m- 2\u001b[39m ACCESS-C~\n",
      "\u001b[38;5;246m# ... with 62,467,833 more rows\u001b[39m\n",
      "Time difference of 0 secs\n",
      "CPU times: total: 9.42 s\n",
      "Wall time: 9.51 s\n"
     ]
    }
   ],
   "source": [
    "%%time\n",
    "%%R -i r_table\n",
    "start_time <- Sys.time()\n",
    "suppressMessages(library(dplyr))\n",
    "df_ae <- r_table \n",
    "end_time <- Sys.time()\n",
    "df_ae_final <- df_ae %>% collect()\n",
    "print(df_ae %>% collect())\n",
    "print(end_time - start_time)"
   ]
  },
  {
   "cell_type": "markdown",
   "id": "770cf2ed-87e2-4fa6-b080-0c2d9aed9ecf",
   "metadata": {},
   "source": [
    "We explored `feather` format,   `parquet` format as well as `arrow exchange` format as hown above.\n",
    "We chose `arrow exchange`as our choice due to following reasons:\n",
    "* First of all, `Pandas exchange` technique costs a long time and consumes big memory. The kernel kept on dieing when we tried it on our laptops. In `arrow exchange` method, time spent on this serialization/deserialization process(arrow) is very less and is also a zero-copy process. \n",
    "* Secondly,  based on the similar running time, we prefer `arrow exchange` because it can help us save much redundant work and does not require to save data files. \n",
    "* Last but not the least, this method is very friendly to work with dplyr."
   ]
  },
  {
   "cell_type": "markdown",
   "id": "beacc9bf-0dc0-4d0b-9700-a578ba9b0b7e",
   "metadata": {
    "tags": []
   },
   "source": [
    "### 2. EDA in R: Mean Rain by all models and Distribution or rain fall by model"
   ]
  },
  {
   "cell_type": "code",
   "execution_count": 34,
   "id": "40c29e19-67b4-41bc-945c-aa6aef323e1b",
   "metadata": {},
   "outputs": [
    {
     "data": {
      "image/png": "[encoded data removed]"
     },
     "metadata": {},
     "output_type": "display_data"
    },
    {
     "name": "stdout",
     "output_type": "stream",
     "text": [
      "CPU times: total: 5.31 s\n",
      "Wall time: 6.58 s\n"
     ]
    }
   ],
   "source": [
    "%%time\n",
    "%%R\n",
    "names(df_ae_final) <- make.names(names(df_ae_final), unique=TRUE)\n",
    "df_ae_final %>%\n",
    "    group_by(model) %>%\n",
    "    summarise(mean_rain = mean(rain..mm.day.)) %>%\n",
    "    ggplot((aes(x=model,y=mean_rain))) +\n",
    "        geom_bar(stat='identity')+\n",
    "        theme(axis.text.x = element_text(angle = 90, vjust = 0.5, hjust=1))            "
   ]
  },
  {
   "cell_type": "code",
   "execution_count": 35,
   "id": "cfbc50b2-7a7d-4a55-96fe-69311b1b1f5e",
   "metadata": {},
   "outputs": [
    {
     "name": "stdout",
     "output_type": "stream",
     "text": [
      "tibble [62,467,843 x 7] (S3: tbl_df/tbl/data.frame)\n",
      " $ time         : POSIXct[1:62467843], format: \"1889-01-01 04:00:00\" \"1889-01-02 04:00:00\" ...\n",
      " $ lat_min      : num [1:62467843] -36.2 -36.2 -36.2 -36.2 -36.2 ...\n",
      " $ lat_max      : num [1:62467843] -35 -35 -35 -35 -35 -35 -35 -35 -35 -35 ...\n",
      " $ lon_min      : num [1:62467843] 141 141 141 141 141 ...\n",
      " $ lon_max      : num [1:62467843] 142 142 142 142 142 ...\n",
      " $ rain..mm.day.: num [1:62467843] 3.29e-13 0.00 0.00 0.00 1.05e-02 ...\n",
      " $ model        : chr [1:62467843] \"ACCESS-CM2\" \"ACCESS-CM2\" \"ACCESS-CM2\" \"ACCESS-CM2\" ...\n",
      "CPU times: total: 109 ms\n",
      "Wall time: 209 ms\n"
     ]
    }
   ],
   "source": [
    "%%time\n",
    "%%R\n",
    "str(df_ae_final)"
   ]
  },
  {
   "cell_type": "markdown",
   "id": "b62572e5-ce49-4bfa-bd57-0f38274d0dc1",
   "metadata": {},
   "source": [
    "* While performing EDA in R after converting the file to arrowm loading of chart took around 5s in Windows laptop , 2min 45s in Mac\n",
    "* Other EDA operation took 93-150ms in Windows and 986ms in Mac"
   ]
  },
  {
   "cell_type": "markdown",
   "id": "bd087ce0-f3a8-49f6-9f37-0e8693e7dedd",
   "metadata": {},
   "source": [
    "| Team Member | Operating System | RAM | Processor | Is SSD | Time taken(load chart 1) | Time taken(str)|\n",
    "|:-----------:|:----------------:|:---:|:---------:|:---:|:---:|:---:|\n",
    "| Affrin Sultana    |   Windows 10 Education   | 16GB    |    AMD Ryzen 9 5000Series    |   Yes   |    5.89s     | 93.8ms|\n",
    "| Helin Wang  | Windows 10 Education | 16GB | Intel(R) Core(TM) i5-8250U CPU @ 1.60GHz 1.80 GHz  |  Yes   | 5.45s | 141ms |\n",
    "| Manju Abhinandana Kumar    |      MacBook Air (M1, 2020)|  8 GB   |     Apple M1      |   Yes     |   Kernel crash for data loading |\n",
    "| Yair Guterman    |    macOS Big Sur    |  8 GB   |    1.8 GHz Dual-Core Intel Core i5       |    Yes    | 2min 45s  |986 ms |"
   ]
  },
  {
   "cell_type": "markdown",
   "id": "fa9ebfe5-0099-4123-a9ae-8da0d48ea182",
   "metadata": {},
   "source": [
    "## Challenges and difficulties"
   ]
  },
  {
   "attachments": {
    "dd161f63-9f96-4902-b723-4d1cda6a613e.png": {
     "image/png": "[encoded data removed]"
    }
   },
   "cell_type": "markdown",
   "id": "6bc1b365-da4a-4460-92b4-90d6c5440a91",
   "metadata": {},
   "source": [
    "* We kept on facing the following issue multiple times across all the sytems:\n",
    "![Screen Shot 2022-04-01 at 5.30.56 PM.png](attachment:dd161f63-9f96-4902-b723-4d1cda6a613e.png)\n",
    "* We tried plotting few graphs without using parquet/arrow file , by simply loading the data, but we couldn't as the system couldn't handle it and we kept on running into memory issue. Hence we didnot attempt plotting without changing the file format.\n",
    "* One of our team member Manju was not able to run the last EDA in arrow exchange file where we are loading the chart, as her system kept on crashing.\n",
    "* It was a pain to run the overall notebook as it took a very long to complete and hampered other functionalities of the system(slowness, system hang, latency) while running."
   ]
  }
 ],
 "metadata": {
  "kernelspec": {
   "display_name": "Python [conda env:525_2022]",
   "language": "python",
   "name": "conda-env-525_2022-py"
  },
  "language_info": {
   "codemirror_mode": {
    "name": "ipython",
    "version": 3
   },
   "file_extension": ".py",
   "mimetype": "text/x-python",
   "name": "python",
   "nbconvert_exporter": "python",
   "pygments_lexer": "ipython3",
   "version": "3.8.6"
  }
 },
 "nbformat": 4,
 "nbformat_minor": 5
}
